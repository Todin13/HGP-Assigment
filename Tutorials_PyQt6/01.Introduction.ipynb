{
 "cells": [
  {
   "cell_type": "markdown",
   "metadata": {},
   "source": [
    "# 1: Introduction to PyQt6\n",
    "\n",
    "This is an introductory PyQt6 tutorial. The purpose of this tutorial is to get you started with the PyQt6 toolkit. [Based on the online PyQt6 tutorial](http://zetcode.com/gui/pyqt6/) which covers PyQt6, which is a blending of the Python language (2.x and 3.x) to the Qt6 library."
   ]
  },
  {
   "cell_type": "code",
   "execution_count": 3,
   "metadata": {},
   "outputs": [
    {
     "data": {
      "text/html": [
       "<style>p{font-family: \"Avenir\";font-size: 1.15em;}</style>\n"
      ],
      "text/plain": [
       "<IPython.core.display.HTML object>"
      ]
     },
     "metadata": {},
     "output_type": "display_data"
    }
   ],
   "source": [
    "%%html\n",
    "<style>p{font-family: \"Avenir\";font-size: 1.15em;}</style>"
   ]
  },
  {
   "cell_type": "markdown",
   "metadata": {},
   "source": [
    "\n",
    "\n",
    "## About PyQt6\n",
    "\n",
    "PyQt6 is a set of Python bindings for Qt6 application framework from Digia. This tutorial uses Python 3. Qt library is one of the most powerful GUI libraries. The official home site for PyQt6 is [www.riverbankcomputing.co.uk/news](http://www.riverbankcomputing.co.uk/news). PyQt6 is developed by Riverbank Computing.\n",
    "\n",
    "PyQt6 is implemented as a set of Python modules. It is a multiplatform toolkit which runs on all major operating systems, including Unix, Windows, and Mac OS. PyQt6 is dual licensed. Developers can choose between a GPL and a commercial license."
   ]
  },
  {
   "cell_type": "markdown",
   "metadata": {},
   "source": [
    "## PyQt6 installation\n",
    "\n",
    "Open Anaconda Navigator and open your 'hgp' environment. Click the play button and select 'Open Terminal' from the dropdown. \n",
    "\n",
    "In the terminal we will make sure we are in our 'hgp' environment: \n",
    "\n",
    "```bash\n",
    "$ where python\n",
    "\n",
    "/Users/jlebron/opt/anaconda3/envs/hgp/bin/python\n",
    "```\n",
    "\n",
    "This should output the location of the python bin folder in your 'hgp' virtual environment. If so, you can run the following command to install PyQt6 with the `pip3` tool.\n",
    "\n",
    "\n",
    "```bash\n",
    "$ pip install PyQt6\n",
    "\n",
    "Collecting PyQt6\n",
    "  Downloading PyQt6-6.3.1-cp37-abi3-macosx_10_14_universal2.whl (11.7 MB)\n",
    "     ━━━━━━━━━━━━━━━━━━━━━━━━━━━━━━━━━━━━━━━━ 11.7/11.7 MB 6.2 MB/s eta 0:00:00\n",
    "Collecting PyQt6-Qt6>=6.3.0\n",
    "  Downloading PyQt6_Qt6-6.3.1-py3-none-macosx_10_14_x86_64.whl (35.0 MB)\n",
    "     ━━━━━━━━━━━━━━━━━━━━━━━━━━━━━━━━━━━━━━━━ 35.0/35.0 MB 4.6 MB/s eta 0:00:00\n",
    "Collecting PyQt6-sip<14,>=13.4\n",
    "  Downloading PyQt6_sip-13.4.0-cp310-cp310-macosx_10_9_universal2.whl (131 kB)\n",
    "     ━━━━━━━━━━━━━━━━━━━━━━━━━━━━━━━━━━━━━━━ 131.1/131.1 kB 3.6 MB/s eta 0:00:00\n",
    "Installing collected packages: PyQt6-Qt6, PyQt6-sip, PyQt6\n",
    "Successfully installed PyQt6-6.3.1 PyQt6-Qt6-6.3.1 PyQt6-sip-13.4.0\n",
    "\n",
    "```\n",
    "\n",
    "\n",
    "\n"
   ]
  },
  {
   "cell_type": "markdown",
   "metadata": {
    "slideshow": {
     "slide_type": "slide"
    }
   },
   "source": [
    "\n",
    "## PyQt6 modules\n",
    "\n",
    "PyQt6's classes are divided into several modules, including the following:\n",
    "\n",
    "- QtCore\n",
    "- QtGui\n",
    "- QtWidgets\n",
    "- QtDBus\n",
    "- QtHelp\n",
    "- QtXml\n",
    "- QtSvg\n",
    "- QtSql\n",
    "- QtTest\n",
    "\n",
    "The `QtCore` module contains the core non-GUI functionality. This module is used for working with time, files and directories, various data types, streams, URLs, mime types, threads or processes. The `QtGui` contains classes for windowing system integration, event handling, 2D graphics, basic imaging, fonts and text. The `QtWidgets` module contains classes that provide a set of UI elements to create classic desktop-style user interfaces. \n",
    "\n",
    "The `QtDBus` module contains classes to support IPC using the D-Bus protocol. The `QtNetwork` module contains the classes for network programming. These classes facilitate the coding of TCP/IP and UDP clients and servers by making the network programming easier and more portable. \n",
    "\n",
    "The `QtXml` contains classes for working with XML files. This module provides implementation for both SAX and DOM APIs. The `QtSvg` module provides classes for displaying the contents of SVG files. Scalable Vector Graphics (SVG) is a language for describing two-dimensional graphics and graphical applications in XML. The `QtSql` module provides classes for working with databases. The `QtTest` contains functions that enable unit testing of PyQt6 applications.\n",
    "\n",
    "<hr>\n",
    "\n",
    "## Python\n",
    "\n",
    "![title](./img/pythonlogo.png)\n",
    "\n",
    "Python is a general-purpose, dynamic, object-oriented programming language. The design purpose of the Python language emphasizes programmer productivity and code readability. Python was initially developed by <em>Guido van Rossum</em>. It was first released in 1991. Python was inspired by ABC, Haskell, Java, Lisp, Icon, and Perl programming languages. Python is a high-level, general purpose, multiplatform, interpreted language. Python is a minimalistic language. One of its most visible features is that it does not use semicolons nor brackets. It uses indentation instead. There are two main branches of Python currently: Python 2.x and Python 3.x. Python 3.x breaks backward compatibility with previous releases of Python. It was created to correct some design flaws of the language and make the language more clean. Python is maintained by a large group of volunteers worldwide. Python is open source software. Python is an ideal start for those who want to learn programming."
   ]
  },
  {
   "cell_type": "markdown",
   "metadata": {},
   "source": [
    "### PyQt6 version\n",
    "The QT_VERSION_STR provides the version of Qt and the PYQT_VERSION_STR version of PyQt6."
   ]
  },
  {
   "cell_type": "code",
   "execution_count": 4,
   "metadata": {},
   "outputs": [
    {
     "name": "stdout",
     "output_type": "stream",
     "text": [
      "QT Version: 6.7.1\n",
      "PyQT Version: 6.7.1\n"
     ]
    }
   ],
   "source": [
    "#Print the version of Qt library and PyQt6 module.\n",
    "\n",
    "#!/usr/bin/python\n",
    "\n",
    "from PyQt6.QtCore import QT_VERSION_STR\n",
    "from PyQt6.QtCore import PYQT_VERSION_STR\n",
    "\n",
    "print(\"QT Version: \" + QT_VERSION_STR)\n",
    "print(\"PyQT Version: \" + PYQT_VERSION_STR)\n"
   ]
  },
  {
   "cell_type": "markdown",
   "metadata": {},
   "source": [
    "Python programming language supports several programming styles. It does not force a programmer to a specific paradigm. Python supports object-oriented and procedural programming. There is also a limited support for functional programming.\n",
    "\n",
    "The official web site for the Python programming language is [python.org](http://python.org)\n",
    "\n",
    "Perl, Python, and Ruby are widely used scripting languages. They share many similarities and they are close competitors.\n",
    "\n",
    "<hr>"
   ]
  },
  {
   "cell_type": "markdown",
   "metadata": {},
   "source": [
    "### Troubleshooting\n",
    "\n",
    "**Note:** If you experience any difficulty in running examples please do the following \n",
    "1. Select \"kernel-> restart\" from the menu\n",
    "2. Copy and paste the code into PyCharm and ensure that you have appropriate images saved in the abse folder. If you are working with icons then the png image should be 32x32 pixels.\n",
    "\n",
    "#### 08.WidgetsPart1\n",
    "*QSlider*\n",
    "- include icons for various volume levels \n"
   ]
  },
  {
   "cell_type": "markdown",
   "metadata": {},
   "source": [
    "\n",
    "\n",
    "<hr> \n",
    "\n",
    "This chapter was an introduction to PyQt6 toolkit.\n",
    "\n",
    "<br>\n",
    "\n",
    "## [Next Tutorial >>](02.DateAndTime.ipynb)"
   ]
  }
 ],
 "metadata": {
  "kernelspec": {
   "display_name": ".venv",
   "language": "python",
   "name": "python3"
  },
  "language_info": {
   "codemirror_mode": {
    "name": "ipython",
    "version": 3
   },
   "file_extension": ".py",
   "mimetype": "text/x-python",
   "name": "python",
   "nbconvert_exporter": "python",
   "pygments_lexer": "ipython3",
   "version": "3.10.15"
  }
 },
 "nbformat": 4,
 "nbformat_minor": 2
}
