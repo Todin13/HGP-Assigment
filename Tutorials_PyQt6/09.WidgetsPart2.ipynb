{
 "cells": [
  {
   "cell_type": "markdown",
   "metadata": {},
   "source": [
    "<div style=\"text-align: right\"><small>Adapted from ZetCode PyQt6 tutorial by Jan Bodnar, zetcode.com</small></div>"
   ]
  },
  {
   "cell_type": "markdown",
   "metadata": {},
   "source": [
    "# 9. PyQt6 Widgets (Part 2)\n",
    "\n",
    "In this notebook we continue introducing PyQt6 widgets. We cover `QPixmap`, `QLineEdit`, `QSplitter`, and `QComboBox`."
   ]
  },
  {
   "cell_type": "code",
   "execution_count": 2,
   "metadata": {},
   "outputs": [
    {
     "data": {
      "text/html": [
       "<style>p{font-family: \"Avenir\";font-size: 1.15em;}</style>\n"
      ],
      "text/plain": [
       "<IPython.core.display.HTML object>"
      ]
     },
     "metadata": {},
     "output_type": "display_data"
    }
   ],
   "source": [
    "%%html\n",
    "<style>p{font-family: \"Avenir\";font-size: 1.15em;}</style>"
   ]
  },
  {
   "cell_type": "markdown",
   "metadata": {
    "slideshow": {
     "slide_type": "slide"
    }
   },
   "source": [
    "\n",
    "\n",
    "## QPixmap\n",
    "\n",
    "A `QPixmap` is one of the widgets used to work with images. It is optimized for showing images on screen. In our code example, we will use the `QPixmap` to display an image on the window.\n",
    "\n"
   ]
  },
  {
   "cell_type": "code",
   "execution_count": null,
   "metadata": {
    "slideshow": {
     "slide_type": "fragment"
    }
   },
   "outputs": [],
   "source": [
    "#!/usr/bin/python\n",
    "\n",
    "\"\"\"\n",
    "ZetCode PyQt6 tutorial\n",
    "\n",
    "In this example, we display an image on the window.\n",
    "\n",
    "\"\"\"\n",
    "\n",
    "from PyQt6.QtWidgets import (QWidget, QHBoxLayout, QLabel, QApplication)\n",
    "from PyQt6.QtGui import QPixmap\n",
    "import sys\n",
    "\n",
    "\n",
    "class Example(QWidget):\n",
    "\n",
    "    def __init__(self):\n",
    "        super().__init__()\n",
    "\n",
    "        self.initUI()\n",
    "\n",
    "\n",
    "    def initUI(self):\n",
    "\n",
    "        hbox = QHBoxLayout(self)\n",
    "        pixmap = QPixmap('sid.jpg')\n",
    "\n",
    "        lbl = QLabel(self)\n",
    "        lbl.setPixmap(pixmap)\n",
    "\n",
    "        hbox.addWidget(lbl)\n",
    "        self.setLayout(hbox)\n",
    "\n",
    "        self.move(300, 200)\n",
    "        self.setWindowTitle('Sid')\n",
    "        self.show()\n",
    "\n",
    "\n",
    "def main():\n",
    "\n",
    "    app = QApplication(sys.argv)\n",
    "    ex = Example()\n",
    "    sys.exit(app.exec())\n",
    "\n",
    "\n",
    "if __name__ == '__main__':\n",
    "    main()\n"
   ]
  },
  {
   "cell_type": "markdown",
   "metadata": {
    "slideshow": {
     "slide_type": "slide"
    }
   },
   "source": [
    "In our example, we display an image on the window.\n",
    "\n",
    "```python\n",
    "pixmap = QPixmap(\"sid.jpg\")\n",
    "```\n",
    "\n",
    "\n",
    "We create a `QPixmap` object. It takes the name of the file as a parameter.\n",
    "\n",
    "```python\n",
    "lbl = QLabel(self)\n",
    "lbl.setPixmap(pixmap)\n",
    "```\n",
    "\n",
    "\n",
    "We put the pixmap into the `QLabel` widget.\n",
    "\n",
    "<hr>\n",
    "\n",
    "\n",
    "## QLineEdit\n",
    "\n",
    "`QLineEdit` is a widget that allows to enter and edit a single line of plain text. There are undo and redo, cut and paste, and drag &amp; drop functions available for the widget.\n",
    "\n"
   ]
  },
  {
   "cell_type": "code",
   "execution_count": 1,
   "metadata": {
    "slideshow": {
     "slide_type": "fragment"
    }
   },
   "outputs": [
    {
     "ename": "SystemExit",
     "evalue": "0",
     "output_type": "error",
     "traceback": [
      "An exception has occurred, use %tb to see the full traceback.\n",
      "\u001b[0;31mSystemExit\u001b[0m\u001b[0;31m:\u001b[0m 0\n"
     ]
    },
    {
     "name": "stderr",
     "output_type": "stream",
     "text": [
      "/Users/jlebron/opt/anaconda3/envs/hgp/lib/python3.10/site-packages/IPython/core/interactiveshell.py:3560: UserWarning: To exit: use 'exit', 'quit', or Ctrl-D.\n",
      "  warn(\"To exit: use 'exit', 'quit', or Ctrl-D.\", stacklevel=1)\n"
     ]
    }
   ],
   "source": [
    "#!/usr/bin/python\n",
    "\n",
    "\"\"\"\n",
    "ZetCode PyQt6 tutorial\n",
    "\n",
    "This example shows text which\n",
    "is entered in a QLineEdit\n",
    "in a QLabel widget.\n",
    "\n",
    "\"\"\"\n",
    "\n",
    "import sys\n",
    "from PyQt6.QtWidgets import (QWidget, QLabel, QLineEdit, QApplication)\n",
    "\n",
    "\n",
    "class Example(QWidget):\n",
    "\n",
    "    def __init__(self):\n",
    "        super().__init__()\n",
    "\n",
    "        self.initUI()\n",
    "\n",
    "\n",
    "    def initUI(self):\n",
    "\n",
    "        self.lbl = QLabel(self)\n",
    "        qle = QLineEdit(self)\n",
    "\n",
    "        qle.move(60, 100)\n",
    "        self.lbl.move(60, 40)\n",
    "\n",
    "        qle.textChanged[str].connect(self.onChanged)\n",
    "\n",
    "        self.setGeometry(300, 300, 350, 250)\n",
    "        self.setWindowTitle('QLineEdit')\n",
    "        self.show()\n",
    "\n",
    "\n",
    "    def onChanged(self, text):\n",
    "\n",
    "        self.lbl.setText(text)\n",
    "        self.lbl.adjustSize()\n",
    "\n",
    "\n",
    "def main():\n",
    "\n",
    "    app = QApplication(sys.argv)\n",
    "    ex = Example()\n",
    "    sys.exit(app.exec())\n",
    "\n",
    "\n",
    "if __name__ == '__main__':\n",
    "    main()\n"
   ]
  },
  {
   "cell_type": "markdown",
   "metadata": {
    "slideshow": {
     "slide_type": "slide"
    }
   },
   "source": [
    "This example shows a line edit widget and a label. The text that we key in the line edit is displayed immediately in the label widget.\n",
    "\n",
    "```python\n",
    "qle = QLineEdit(self)\n",
    "```\n",
    "\n",
    "\n",
    "The `QLineEdit` widget is created.\n",
    "\n",
    "```python\n",
    "qle.textChanged[str].connect(self.onChanged)\n",
    "```\n",
    "\n",
    "\n",
    "If the text in the line edit widget changes, we call the `onChanged()` method.\n",
    "\n",
    "```python\n",
    "def onChanged(self, text):\n",
    "    \n",
    "    self.lbl.setText(text)\n",
    "    self.lbl.adjustSize()\n",
    "```\n",
    "\n",
    "\n",
    "Inside the `onChanged()` method, we set the typed text to the label widget. We call the `adjustSize()` method to adjust the size of the label to the length of the text.\n",
    "\n",
    "![Figure: QLineEdit](./img/qlineedit.png)\n",
    "\n",
    "<hr>\n",
    "\n",
    "\n",
    "## QSplitter\n",
    "\n",
    "`QSplitter` lets the user control the size of child widgets by dragging the boundary between its children. In our example, we show three `QFrame` widgets organized with two splitters.\n",
    "\n"
   ]
  },
  {
   "cell_type": "code",
   "execution_count": 1,
   "metadata": {
    "slideshow": {
     "slide_type": "fragment"
    }
   },
   "outputs": [
    {
     "ename": "SystemExit",
     "evalue": "0",
     "output_type": "error",
     "traceback": [
      "An exception has occurred, use %tb to see the full traceback.\n",
      "\u001b[0;31mSystemExit\u001b[0m\u001b[0;31m:\u001b[0m 0\n"
     ]
    },
    {
     "name": "stderr",
     "output_type": "stream",
     "text": [
      "/Users/alexcronin/anaconda3/envs/hgp/lib/python3.6/site-packages/IPython/core/interactiveshell.py:2969: UserWarning: To exit: use 'exit', 'quit', or Ctrl-D.\n",
      "  warn(\"To exit: use 'exit', 'quit', or Ctrl-D.\", stacklevel=1)\n"
     ]
    }
   ],
   "source": [
    "#!/usr/bin/python\n",
    "\n",
    "\"\"\"\n",
    "ZetCode PyQt6 tutorial\n",
    "\n",
    "This example shows how to use QSplitter widget.\n",
    "\n",
    "\"\"\"\n",
    "\n",
    "import sys\n",
    "\n",
    "from PyQt6.QtCore import Qt\n",
    "from PyQt6.QtWidgets import (QWidget, QHBoxLayout, QFrame, QSplitter, QApplication)\n",
    "\n",
    "\n",
    "class Example(QWidget):\n",
    "\n",
    "    def __init__(self):\n",
    "        super().__init__()\n",
    "\n",
    "        self.initUI()\n",
    "\n",
    "\n",
    "    def initUI(self):\n",
    "\n",
    "        hbox = QHBoxLayout(self)\n",
    "\n",
    "        topleft = QFrame(self)\n",
    "        topleft.setFrameShape(QFrame.Shape.StyledPanel)\n",
    "\n",
    "        topright = QFrame(self)\n",
    "        topright.setFrameShape(QFrame.Shape.StyledPanel)\n",
    "\n",
    "        bottom = QFrame(self)\n",
    "        bottom.setFrameShape(QFrame.Shape.StyledPanel)\n",
    "\n",
    "        splitter1 = QSplitter(Qt.Orientations.Horizontal)\n",
    "        splitter1.addWidget(topleft)\n",
    "        splitter1.addWidget(topright)\n",
    "\n",
    "        splitter2 = QSplitter(Qt.Orientations.Vertical)\n",
    "        splitter2.addWidget(splitter1)\n",
    "        splitter2.addWidget(bottom)\n",
    "\n",
    "        hbox.addWidget(splitter2)\n",
    "        self.setLayout(hbox)\n",
    "\n",
    "        self.setGeometry(300, 300, 450, 400)\n",
    "        self.setWindowTitle('QSplitter')\n",
    "        self.show()\n",
    "\n",
    "\n",
    "def main():\n",
    "\n",
    "    app = QApplication(sys.argv)\n",
    "    ex = Example()\n",
    "    sys.exit(app.exec())\n",
    "\n",
    "\n",
    "if __name__ == '__main__':\n",
    "    main()"
   ]
  },
  {
   "cell_type": "markdown",
   "metadata": {
    "slideshow": {
     "slide_type": "slide"
    }
   },
   "source": [
    "In our example, we have three frame widgets and two splitters. Note that under some themes, the splitters may not be visible very well.\n",
    "\n",
    "```python\n",
    "topleft = QFrame(self)\n",
    "topleft.setFrameShape(QFrame.Shape.StyledPanel)\n",
    "```\n",
    "\n",
    "\n",
    "We use a styled frame in order to see the boundaries between the `QFrame` widgets.\n",
    "\n",
    "```python\n",
    "splitter1 = QSplitter(Qt.Orientations.Horizontal)\n",
    "splitter1.addWidget(topleft)\n",
    "splitter1.addWidget(topright)\n",
    "```\n",
    "\n",
    "\n",
    "We create a `QSplitter` widget and add two frames into it.\n",
    "\n",
    "```python\n",
    "splitter2 = QSplitter(Qt.Orientations.Vertical)\n",
    "splitter2.addWidget(splitter1)\n",
    "```\n",
    "\n",
    "\n",
    "We can also add a splitter to another splitter widget.\n",
    "\n",
    "![Figure: QSplitter widget](./img/qsplitter.png)\n",
    "\n",
    "<hr>\n",
    "\n",
    "\n",
    "## QComboBox\n",
    "\n",
    "`QComboBox` is a widget that allows a user to choose from a list of options.\n",
    "\n"
   ]
  },
  {
   "cell_type": "code",
   "execution_count": null,
   "metadata": {
    "slideshow": {
     "slide_type": "fragment"
    }
   },
   "outputs": [],
   "source": [
    "#!/usr/bin/python\n",
    "\n",
    "\"\"\"\n",
    "ZetCode PyQt6 tutorial\n",
    "\n",
    "This example shows how to use a QComboBox widget.\n",
    "\n",
    "\"\"\"\n",
    "\n",
    "import sys\n",
    "\n",
    "from PyQt6.QtWidgets import (QWidget, QLabel, QComboBox, QApplication)\n",
    "\n",
    "\n",
    "class Example(QWidget):\n",
    "\n",
    "    def __init__(self):\n",
    "        super().__init__()\n",
    "\n",
    "        self.initUI()\n",
    "\n",
    "\n",
    "    def initUI(self):\n",
    "\n",
    "        self.lbl = QLabel('Ubuntu', self)\n",
    "\n",
    "        combo = QComboBox(self)\n",
    "\n",
    "        combo.addItem('Ubuntu')\n",
    "        combo.addItem('Mandriva')\n",
    "        combo.addItem('Fedora')\n",
    "        combo.addItem('Arch')\n",
    "        combo.addItem('Gentoo')\n",
    "\n",
    "        combo.move(50, 50)\n",
    "        self.lbl.move(50, 150)\n",
    "\n",
    "        combo.textActivated[str].connect(self.onActivated)\n",
    "\n",
    "        self.setGeometry(300, 300, 450, 400)\n",
    "        self.setWindowTitle('QComboBox')\n",
    "        self.show()\n",
    "\n",
    "\n",
    "    def onActivated(self, text):\n",
    "\n",
    "        self.lbl.setText(text)\n",
    "        self.lbl.adjustSize()\n",
    "\n",
    "\n",
    "def main():\n",
    "\n",
    "    app = QApplication(sys.argv)\n",
    "    ex = Example()\n",
    "    sys.exit(app.exec())\n",
    "\n",
    "\n",
    "if __name__ == '__main__':\n",
    "    main()\n"
   ]
  },
  {
   "cell_type": "markdown",
   "metadata": {
    "slideshow": {
     "slide_type": "slide"
    }
   },
   "source": [
    "The example shows a `QComboBox` and a `QLabel`. The combo box has a list of five options. These are the names of Linux distros. The label widget displays the selected option from the combo box.\n",
    "\n",
    "```python\n",
    "combo = QComboBox(self)\n",
    "combo.addItem(\"Ubuntu\")\n",
    "combo.addItem(\"Mandriva\")\n",
    "combo.addItem(\"Fedora\")\n",
    "combo.addItem(\"Arch\")\n",
    "combo.addItem(\"Gentoo\")\n",
    "```\n",
    "\n",
    "\n",
    "We create a `QComboBox` widget with five options.\n",
    "\n",
    "```python\n",
    "combo.textActivated[str].connect(self.onActivated)\n",
    "```\n",
    "\n",
    "\n",
    "Upon an item selection, we call the `onActivated()` method.\n",
    "\n",
    "```python\n",
    "def onActivated(self, text):\n",
    "  \n",
    "    self.lbl.setText(text)\n",
    "    self.lbl.adjustSize()\n",
    "```\n",
    "\n",
    "\n",
    "Inside the method, we set the text of the chosen item to the label widget. We adjust the size of the label.\n",
    "\n",
    "![Figure: QComboBox](./img/qcombobox.png)\n",
    "\n",
    "<br>  \n",
    "<hr>\n",
    "<br>  \n",
    "\n",
    "In this part of the PyQt6 tutorial, we have covered `QPixmap`, `QLineEdit`, `QSplitter`, and `QComboBox`.\n",
    "\n"
   ]
  },
  {
   "cell_type": "markdown",
   "metadata": {},
   "source": [
    "## [<< Previous](08.WidgetsPart1.ipynb) &nbsp;&nbsp;&nbsp;[Next >>](10.DragAndDrop.ipynb)"
   ]
  }
 ],
 "metadata": {
  "kernelspec": {
   "display_name": "Python 3 (ipykernel)",
   "language": "python",
   "name": "python3"
  },
  "language_info": {
   "codemirror_mode": {
    "name": "ipython",
    "version": 3
   },
   "file_extension": ".py",
   "mimetype": "text/x-python",
   "name": "python",
   "nbconvert_exporter": "python",
   "pygments_lexer": "ipython3",
   "version": "3.10.6"
  }
 },
 "nbformat": 4,
 "nbformat_minor": 2
}
