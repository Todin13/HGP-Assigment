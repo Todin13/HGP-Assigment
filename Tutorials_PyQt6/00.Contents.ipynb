{
 "cells": [
  {
   "cell_type": "markdown",
   "id": "bd540332",
   "metadata": {},
   "source": [
    "# PyQt6 Tutorials\n",
    "\n",
    "Complete each of the Tutorials below during the labs and as practical work on your own.  \n",
    "\n",
    "<hr>\n",
    "<ol>\n",
    " <a href=\"01.Introduction.ipynb\"><h3><li>Introduction</li></h3></a>\n",
    " <a href=\"02.DateAndTime.ipynb\"><h3><li>Date And Time</li></h3></a>\n",
    " <a href=\"03.FirstPrograms.ipynb\"><h3><li>First Programs</li></h3></a>\n",
    " <a href=\"04.MenusAndToolbars.ipynb\"><h3><li>Menus and Toolbars</li></h3></a>\n",
    " <a href=\"05.LayoutManagement.ipynb\"><h3><li>Layout Management</li></h3></a>\n",
    " <a href=\"06.EventsAndSignals.ipynb\"><h3><li>Events and Signals</li></h3></a>\n",
    " <a href=\"07.Dialogs.ipynb\"><h3><li>Dialogs</li></h3></a>\n",
    " <a href=\"08.WidgetsPart1.ipynb\"><h3><li>Widgets Part 1</li></h3></a>\n",
    " <a href=\"09.WidgetsPart2.ipynb\"><h3><li>Widgets Part 2</li></h3></a>\n",
    " <a href=\"10.DragAndDrop.ipynb\"><h3><li>Drag and Drop</li></h3></a>\n",
    " <a href=\"11.Painting.ipynb\"><h3><li>Painting</li></h3></a>\n",
    " <a href=\"12.CustomWidgets.ipynb\"><h3><li>Custom Widgets</li></h3></a>\n",
    " <a href=\"13.TheTetrisGame.ipynb\"><h3><li>The Tetris Game</li></h3></a>\n",
    "</ol>\n",
    "\n"
   ]
  }
 ],
 "metadata": {
  "kernelspec": {
   "display_name": "Python 3 (ipykernel)",
   "language": "python",
   "name": "python3"
  },
  "language_info": {
   "codemirror_mode": {
    "name": "ipython",
    "version": 3
   },
   "file_extension": ".py",
   "mimetype": "text/x-python",
   "name": "python",
   "nbconvert_exporter": "python",
   "pygments_lexer": "ipython3",
   "version": "3.10.6"
  }
 },
 "nbformat": 4,
 "nbformat_minor": 5
}
