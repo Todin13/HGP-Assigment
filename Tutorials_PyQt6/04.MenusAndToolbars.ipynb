{
 "cells": [
  {
   "cell_type": "markdown",
   "metadata": {},
   "source": [
    "<div style=\"text-align: right\"><small>Adapted from ZetCode PyQt6 tutorial by Jan Bodnar, zetcode.com</small></div>"
   ]
  },
  {
   "cell_type": "markdown",
   "metadata": {},
   "source": [
    "# 4. Menus and toolbars in PyQt6\n",
    "\n",
    "In this part of the PyQt6 tutorial, we create a statusbar, menubar and a toolbar. A menu is a group of commands located in a menubar. A toolbar has buttons with some common commands in the application. Statusbar shows status information, usually at the bottom of the application window.\n",
    "\n",
    "\n",
    "\n",
    "## QMainWindow\n",
    "\n",
    "The `QMainWindow` class provides a main application window. This enables to create a classic application skeleton with a statusbar, toolbars, and a menubar."
   ]
  },
  {
   "cell_type": "code",
   "execution_count": 1,
   "metadata": {},
   "outputs": [
    {
     "data": {
      "text/html": [
       "<style>p{font-family: \"Avenir\";font-size: 1.15em;}</style>\n"
      ],
      "text/plain": [
       "<IPython.core.display.HTML object>"
      ]
     },
     "metadata": {},
     "output_type": "display_data"
    }
   ],
   "source": [
    "%%html\n",
    "<style>p{font-family: \"Avenir\";font-size: 1.15em;}</style>"
   ]
  },
  {
   "cell_type": "markdown",
   "metadata": {
    "slideshow": {
     "slide_type": "slide"
    }
   },
   "source": [
    "\n",
    "\n",
    "## Statusbar\n",
    "\n",
    "A statusbar is a widget that is used for displaying status information.\n",
    "\n"
   ]
  },
  {
   "cell_type": "code",
   "execution_count": null,
   "metadata": {
    "slideshow": {
     "slide_type": "fragment"
    }
   },
   "outputs": [],
   "source": [
    "#!/usr/bin/python\n",
    "\n",
    "\"\"\"\n",
    "ZetCode PyQt6 tutorial\n",
    "\n",
    "This program creates a statusbar.\n",
    "\"\"\"\n",
    "\n",
    "import sys\n",
    "from PyQt6.QtWidgets import QMainWindow, QApplication\n",
    "\n",
    "\n",
    "class Example(QMainWindow):\n",
    "\n",
    "    def __init__(self):\n",
    "        super().__init__()\n",
    "\n",
    "        self.initUI()\n",
    "\n",
    "\n",
    "    def initUI(self):\n",
    "\n",
    "        self.statusBar().showMessage('Ready')\n",
    "\n",
    "        self.setGeometry(300, 300, 350, 250)\n",
    "        self.setWindowTitle('Statusbar')\n",
    "        self.show()\n",
    "\n",
    "\n",
    "def main():\n",
    "\n",
    "    app = QApplication(sys.argv)\n",
    "    ex = Example()\n",
    "    sys.exit(app.exec())\n",
    "\n",
    "\n",
    "if __name__ == '__main__':\n",
    "    main()"
   ]
  },
  {
   "cell_type": "markdown",
   "metadata": {
    "slideshow": {
     "slide_type": "slide"
    }
   },
   "source": [
    "The statusbar is created with the help of the `QMainWindow` widget.\n",
    "\n",
    "```python\n",
    "self.statusBar().showMessage('Ready')\n",
    "```\n",
    "\n",
    "\n",
    "To get the statusbar, we call the `statusBar()` method of the `QMainWindow` class. The first call of the method creates a status bar. Subsequent calls return the statusbar object. The `showMessage()` displays a message on the statusbar.\n",
    "\n",
    "<br>\n",
    "<hr>\n",
    "\n",
    "\n",
    "## Simple menu\n",
    "\n",
    "A menubar is a common part of a GUI application. It is a group of commands located in various menus. (Mac OS treats menubars differently. To get a similar outcome, we can add the following line: `menubar.setNativeMenuBar(False)`.)\n",
    "\n"
   ]
  },
  {
   "cell_type": "code",
   "execution_count": null,
   "metadata": {
    "slideshow": {
     "slide_type": "fragment"
    }
   },
   "outputs": [],
   "source": [
    "#!/usr/bin/python\n",
    "\n",
    "\"\"\"\n",
    "ZetCode PyQt6 tutorial\n",
    "\n",
    "This program creates a menubar. The\n",
    "menubar has one menu with an exit action.\n",
    "\n",
    "\"\"\"\n",
    "\n",
    "import sys\n",
    "from PyQt6.QtWidgets import QMainWindow, QApplication\n",
    "from PyQt6.QtGui import QIcon, QAction\n",
    "\n",
    "\n",
    "class Example(QMainWindow):\n",
    "\n",
    "    def __init__(self):\n",
    "        super().__init__()\n",
    "\n",
    "        self.initUI()\n",
    "\n",
    "\n",
    "    def initUI(self):\n",
    "\n",
    "        exitAct = QAction(QIcon('exit.png'), ' &Quit', self)\n",
    "        exitAct.setShortcut('Ctrl+Q')\n",
    "        exitAct.setStatusTip('Exit application')\n",
    "        exitAct.triggered.connect(QApplication.instance().quit)\n",
    "\n",
    "        self.statusBar()\n",
    "        self.statusBar().showMessage('Testing.')\n",
    "        \n",
    "\n",
    "        menubar = self.menuBar()\n",
    "        #menubar.setNativeMenuBar(False)\n",
    "        fileMenu = menubar.addMenu('&File')\n",
    "        fileMenu.addAction(exitAct)\n",
    "\n",
    "        self.setGeometry(300, 300, 350, 250)\n",
    "        self.setWindowTitle('Simple menu')\n",
    "        self.show()\n",
    "\n",
    "\n",
    "def main():\n",
    "\n",
    "    app = QApplication(sys.argv)\n",
    "    ex = Example()\n",
    "    sys.exit(app.exec())\n",
    "\n",
    "\n",
    "if __name__ == '__main__':\n",
    "    main()"
   ]
  },
  {
   "cell_type": "markdown",
   "metadata": {
    "slideshow": {
     "slide_type": "slide"
    }
   },
   "source": [
    "In the above example, we create a menubar with one menu. This menu will contain one action which will terminate the application if selected. A statusbar is created as well. The action is accessible with the <kbd>Ctrl</kbd>+<kbd>Q</kbd> shortcut.\n",
    "\n",
    "```python\n",
    "exitAct = QAction(QIcon('exit.png'), '&Exit', self)\n",
    "exitAct.setShortcut('Ctrl+Q')\n",
    "exitAct.setStatusTip('Exit application')\n",
    "```\n",
    "\n",
    "\n",
    "`QAction` is an abstraction for actions performed with a menubar, toolbar, or with a custom keyboard shortcut. In the above three lines, we create an action with a specific icon and an 'Exit' label. Furthermore, a shortcut is defined for this action. The third line creates a status tip which is shown in the statusbar when we hover a mouse pointer over the menu item.\n",
    "\n",
    "```python\n",
    "exitAct.triggered.connect(QApplication.instance().quit)\n",
    "```\n",
    "\n",
    "\n",
    "When we select this particular action, a triggered signal is emitted. The signal is connected to the `quit()` method of the `QApplication` widget. This terminates the application.\n",
    "\n",
    "```python\n",
    "menubar = self.menuBar()\n",
    "fileMenu = menubar.addMenu('&File')\n",
    "fileMenu.addAction(exitAction)\n",
    "```\n",
    "\n",
    "\n",
    "The `menuBar()` method creates a menubar. We create a file menu with `addMenu()` and add the action with `addAction()`.\n",
    "\n",
    "**Note:** In a GUI application, the menu bar will be displayed in different positions depending on the underlying operating system:\n",
    "\n",
    "- **Windows:** At the top of the application’s main window, under the title bar\n",
    "- **macOS:** At the top of the screen or add `menubar.setNativeMenuBar(False)` \n",
    "    - *You will need to click away from the app and return to it for the menus to work*\n",
    "- **Linux:** Either at the top of the main window or at the top of the screen, depending on your desktop environment\n",
    "\n",
    "<br>\n",
    "<hr>\n",
    "\n",
    "\n",
    "## Submenu\n",
    "\n",
    "A submenu is a menu located inside another menu.\n",
    "\n"
   ]
  },
  {
   "cell_type": "code",
   "execution_count": null,
   "metadata": {
    "slideshow": {
     "slide_type": "fragment"
    }
   },
   "outputs": [],
   "source": [
    "#!/usr/bin/python\n",
    "\n",
    "\"\"\"\n",
    "ZetCode PyQt6 tutorial\n",
    "\n",
    "This program creates a submenu.\n",
    "\n",
    "\"\"\"\n",
    "\n",
    "import sys\n",
    "from PyQt6.QtWidgets import QMainWindow, QMenu, QApplication\n",
    "from PyQt6.QtGui import QAction\n",
    "\n",
    "\n",
    "class Example(QMainWindow):\n",
    "\n",
    "    def __init__(self):\n",
    "        super().__init__()\n",
    "\n",
    "        self.initUI()\n",
    "\n",
    "\n",
    "    def initUI(self):\n",
    "\n",
    "        menubar = self.menuBar()\n",
    "        #menubar.setNativeMenuBar(False)\n",
    "        fileMenu = menubar.addMenu('File')\n",
    "\n",
    "        impMenu = QMenu('Import', self)\n",
    "        impAct = QAction('Import mail', self)\n",
    "        impMenu.addAction(impAct)\n",
    "\n",
    "        newAct = QAction('New', self)\n",
    "\n",
    "        fileMenu.addAction(newAct)\n",
    "        fileMenu.addMenu(impMenu)\n",
    "\n",
    "        self.setGeometry(300, 300, 350, 250)\n",
    "        self.setWindowTitle('Submenu')\n",
    "        self.show()\n",
    "\n",
    "\n",
    "def main():\n",
    "\n",
    "    app = QApplication(sys.argv)\n",
    "    ex = Example()\n",
    "    sys.exit(app.exec())\n",
    "\n",
    "\n",
    "if __name__ == '__main__':\n",
    "    main()"
   ]
  },
  {
   "cell_type": "markdown",
   "metadata": {
    "slideshow": {
     "slide_type": "slide"
    }
   },
   "source": [
    "In the example, we have two menu items; one is located in the File menu and the other one in the File's Import submenu.\n",
    "\n",
    "```python\n",
    "impMenu = QMenu('Import', self)\n",
    "```\n",
    "\n",
    "\n",
    "New menu is created with `QMenu`.\n",
    "\n",
    "```python\n",
    "impAct = QAction('Import mail', self) \n",
    "impMenu.addAction(impAct)\n",
    "```\n",
    "\n",
    "\n",
    "An action is added to the submenu with `addAction()`.\n",
    "\n",
    "![Figure: Submenu](./img/submenu.png)\n",
    "\n",
    "\n",
    "<br>\n",
    "<br>\n",
    "<hr>\n",
    "\n",
    "\n",
    "## Check menu\n",
    "\n",
    "In the following example, we create a menu that can be checked and unchecked.\n",
    "\n"
   ]
  },
  {
   "cell_type": "code",
   "execution_count": null,
   "metadata": {
    "slideshow": {
     "slide_type": "fragment"
    }
   },
   "outputs": [],
   "source": [
    "#!/usr/bin/python\n",
    "\n",
    "\"\"\"\n",
    "ZetCode PyQt6 tutorial\n",
    "\n",
    "This program creates a checkable menu.\n",
    "\n",
    "\"\"\"\n",
    "\n",
    "import sys\n",
    "from PyQt6.QtWidgets import QMainWindow, QApplication\n",
    "from PyQt6.QtGui import QAction\n",
    "\n",
    "\n",
    "class Example(QMainWindow):\n",
    "\n",
    "    def __init__(self):\n",
    "        super().__init__()\n",
    "\n",
    "        self.initUI()\n",
    "\n",
    "\n",
    "    def initUI(self):\n",
    "\n",
    "        self.statusbar = self.statusBar()\n",
    "        self.statusbar.showMessage('Ready')\n",
    "\n",
    "        menubar = self.menuBar()\n",
    "        #menubar.setNativeMenuBar(False)\n",
    "        viewMenu = menubar.addMenu('View')\n",
    "\n",
    "        viewStatAct = QAction('View statusbar', self, checkable=True)\n",
    "        viewStatAct.setStatusTip('View statusbar')\n",
    "        viewStatAct.setChecked(True)\n",
    "        viewStatAct.triggered.connect(self.toggleMenu)\n",
    "\n",
    "        viewMenu.addAction(viewStatAct)\n",
    "\n",
    "        self.setGeometry(300, 300, 350, 250)\n",
    "        self.setWindowTitle('Check menu')\n",
    "        self.show()\n",
    "\n",
    "\n",
    "    def toggleMenu(self, state):\n",
    "\n",
    "        if state:\n",
    "            self.statusbar.show()\n",
    "        else:\n",
    "            self.statusbar.hide()\n",
    "\n",
    "\n",
    "def main():\n",
    "\n",
    "    app = QApplication(sys.argv)\n",
    "    ex = Example()\n",
    "    sys.exit(app.exec())\n",
    "\n",
    "\n",
    "if __name__ == '__main__':\n",
    "    main()"
   ]
  },
  {
   "cell_type": "markdown",
   "metadata": {
    "slideshow": {
     "slide_type": "slide"
    }
   },
   "source": [
    "The code example creates a View menu with one action. The action shows or hides a statusbar. When the statusbar is visible, the menu item is checked.\n",
    "\n",
    "```python\n",
    "viewStatAct = QAction('View statusbar', self, checkable=True)\n",
    "```\n",
    "\n",
    "\n",
    "With the `checkable` option we create a checkable menu.\n",
    "\n",
    "```python\n",
    "viewStatAct.setChecked(True)\n",
    "```\n",
    "\n",
    "\n",
    "Since the statusbar is visible from the start, we check the action with `setChecked()` method.\n",
    "\n",
    "```python\n",
    "def toggleMenu(self, state):\n",
    "    \n",
    "    if state:\n",
    "        self.statusbar.show()\n",
    "    else:\n",
    "        self.statusbar.hide()\n",
    "```\n",
    "\n",
    "\n",
    "Depending on the state of the action, we show or hide the statusbar.\n",
    "\n",
    "![Figure: Check menu](./img/checkmenu.png)\n",
    "\n",
    "<br>\n",
    "<br>\n",
    "<hr>\n",
    "\n",
    "\n",
    "## Context menu\n",
    "\n",
    "A context menu, also called a popup menu, is a list of commands that appears under some context. For example, in a Opera web browser when we right click on a web page, we get a context menu. Here we can reload a page, go back, or view a page source. If we right click on a toolbar, we get another context menu for managing toolbars.\n",
    "\n"
   ]
  },
  {
   "cell_type": "code",
   "execution_count": null,
   "metadata": {
    "slideshow": {
     "slide_type": "fragment"
    }
   },
   "outputs": [],
   "source": [
    "#!/usr/bin/python\n",
    "\n",
    "\"\"\"\n",
    "ZetCode PyQt6 tutorial\n",
    "\n",
    "This program creates a context menu.\n",
    "\n",
    "\"\"\"\n",
    "\n",
    "import sys\n",
    "from PyQt6.QtWidgets import QMainWindow, QMenu, QApplication\n",
    "\n",
    "\n",
    "class Example(QMainWindow):\n",
    "\n",
    "    def __init__(self):\n",
    "        super().__init__()\n",
    "\n",
    "        self.initUI()\n",
    "\n",
    "\n",
    "    def initUI(self):\n",
    "\n",
    "        self.setGeometry(300, 300, 350, 250)\n",
    "        self.setWindowTitle('Context menu')\n",
    "        self.show()\n",
    "\n",
    "\n",
    "    def contextMenuEvent(self, event):\n",
    "\n",
    "        cmenu = QMenu(self)\n",
    "\n",
    "        newAct = cmenu.addAction(\"New\")\n",
    "        openAct = cmenu.addAction(\"Open\")\n",
    "        quitAct = cmenu.addAction(\"Quit\")\n",
    "        action = cmenu.exec(self.mapToGlobal(event.pos()))\n",
    "\n",
    "        if action == quitAct:\n",
    "            QApplication.instance().quit()\n",
    "\n",
    "\n",
    "def main():\n",
    "\n",
    "    app = QApplication(sys.argv)\n",
    "    ex = Example()\n",
    "    sys.exit(app.exec())\n",
    "\n",
    "\n",
    "if __name__ == '__main__':\n",
    "    main()"
   ]
  },
  {
   "cell_type": "markdown",
   "metadata": {
    "slideshow": {
     "slide_type": "slide"
    }
   },
   "source": [
    "To work with a context menu, we have to reimplement the `contextMenuEvent()` method.\n",
    "\n",
    "```python\n",
    "action = cmenu.exec(self.mapToGlobal(event.pos()))\n",
    "```\n",
    "\n",
    "\n",
    "The context menu is displayed with the `exec()` method. This gets the coordinates of the mouse pointer from the event object. The `mapToGlobal()` method translates the widget coordinates to the global screen coordinates.\n",
    "\n",
    "```python\n",
    "if action == quitAct:\n",
    "    QApplication.instance().quit()\n",
    "```\n",
    "\n",
    "\n",
    "If the action returned from the context menu equals to quit action, we terminate the application.\n",
    "\n",
    "<br>\n",
    "<hr>\n",
    "\n",
    "\n",
    "## Toolbar\n",
    "\n",
    "Menus group all commands that we can use in an application. Toolbars provide a quick access to the most frequently used commands.\n",
    "\n"
   ]
  },
  {
   "cell_type": "code",
   "execution_count": null,
   "metadata": {
    "slideshow": {
     "slide_type": "fragment"
    }
   },
   "outputs": [],
   "source": [
    "#!/usr/bin/python\n",
    "\n",
    "\"\"\"\n",
    "ZetCode PyQt6 tutorial\n",
    "\n",
    "This program creates a toolbar. The toolbar has one action, which terminates the application, if triggered.\n",
    "\n",
    "\"\"\"\n",
    "\n",
    "import sys\n",
    "from PyQt6.QtWidgets import QMainWindow,  QApplication\n",
    "from PyQt6.QtGui import QIcon, QAction\n",
    "\n",
    "\n",
    "class Example(QMainWindow):\n",
    "\n",
    "    def __init__(self):\n",
    "        super().__init__()\n",
    "\n",
    "        self.initUI()\n",
    "\n",
    "\n",
    "    def initUI(self):\n",
    "\n",
    "        exitAct = QAction(QIcon('./img/exit24.png'), 'Exit', self)\n",
    "        exitAct.setShortcut('Ctrl+Q')\n",
    "        exitAct.triggered.connect(QApplication.instance().quit)\n",
    "\n",
    "        self.toolbar = self.addToolBar('Exit')\n",
    "        self.toolbar.addAction(exitAct)\n",
    "\n",
    "        self.setGeometry(300, 300, 350, 250)\n",
    "        self.setWindowTitle('Toolbar')\n",
    "        self.show()\n",
    "\n",
    "\n",
    "def main():\n",
    "\n",
    "    app = QApplication(sys.argv)\n",
    "    ex = Example()\n",
    "    sys.exit(app.exec())\n",
    "\n",
    "\n",
    "if __name__ == '__main__':\n",
    "    main()"
   ]
  },
  {
   "cell_type": "markdown",
   "metadata": {
    "slideshow": {
     "slide_type": "slide"
    }
   },
   "source": [
    "In the above example, we create a simple toolbar. The toolbar has one tool action, an exit action which terminates the application when triggered.\n",
    "\n",
    "```python\n",
    "exitAct = QAction(QIcon('exit24.png'), 'Exit', self)\n",
    "exitAct.setShortcut('Ctrl+Q')\n",
    "exitAct.triggered.connect(QApplication.instance().quit)\n",
    "```\n",
    "\n",
    "\n",
    "Similar to the menubar example above, we create an action object. The object has a label, icon, and a shorcut. A `quit()` method of the `QApplication` is connected to the triggered signal.\n",
    "\n",
    "```python\n",
    "self.toolbar = self.addToolBar('Exit')\n",
    "self.toolbar.addAction(exitAction)\n",
    "```\n",
    "\n",
    "\n",
    "The toolbar is created with the `addToolBar()` method. We add an action object to the toolbar with `addAction()`.\n",
    "\n",
    "![Figure: Toolbar](./img/toolbar.png)\n",
    "\n",
    "\n",
    "<br>\n",
    "<br>\n",
    "<hr>\n",
    "\n",
    "## Putting it together\n",
    "\n",
    "In the last example of this section, we will create a menubar, toolbar, and a statusbar. We will also create a central widget.\n",
    "\n"
   ]
  },
  {
   "cell_type": "code",
   "execution_count": null,
   "metadata": {
    "slideshow": {
     "slide_type": "fragment"
    }
   },
   "outputs": [],
   "source": [
    "#!/usr/bin/python\n",
    "\n",
    "\"\"\"\n",
    "ZetCode PyQt6 tutorial\n",
    "\n",
    "This program creates a skeleton of a classic GUI application with a menubar,\n",
    "toolbar, statusbar, and a central widget.\n",
    "\n",
    "\"\"\"\n",
    "\n",
    "import sys\n",
    "from PyQt6.QtWidgets import QMainWindow, QTextEdit, QApplication\n",
    "from PyQt6.QtGui import QIcon, QAction\n",
    "\n",
    "\n",
    "class Example(QMainWindow):\n",
    "\n",
    "    def __init__(self):\n",
    "        super().__init__()\n",
    "\n",
    "        self.initUI()\n",
    "\n",
    "\n",
    "    def initUI(self):\n",
    "\n",
    "        textEdit = QTextEdit()\n",
    "        self.setCentralWidget(textEdit)\n",
    "\n",
    "        exitAct = QAction(QIcon('./img/exit24.png'), 'Exit', self)\n",
    "        exitAct.setShortcut('Ctrl+Q')\n",
    "        exitAct.setStatusTip('Exit application')\n",
    "        exitAct.triggered.connect(self.close)\n",
    "\n",
    "        self.statusBar()\n",
    "\n",
    "        menubar = self.menuBar()\n",
    "        fileMenu = menubar.addMenu('&File')\n",
    "        fileMenu.addAction(exitAct)\n",
    "\n",
    "        toolbar = self.addToolBar('Exit')\n",
    "        toolbar.addAction(exitAct)\n",
    "\n",
    "        self.setGeometry(300, 300, 350, 250)\n",
    "        self.setWindowTitle('Main window')\n",
    "        self.show()\n",
    "\n",
    "\n",
    "def main():\n",
    "\n",
    "    app = QApplication(sys.argv)\n",
    "    ex = Example()\n",
    "    sys.exit(app.exec())\n",
    "\n",
    "\n",
    "if __name__ == '__main__':\n",
    "    main()\n"
   ]
  },
  {
   "cell_type": "markdown",
   "metadata": {
    "slideshow": {
     "slide_type": "slide"
    }
   },
   "source": [
    "This code example creates a skeleton of a classic GUI application with a menubar, toolbar, and a statusbar.\n",
    "\n",
    "```python\n",
    "textEdit = QTextEdit()\n",
    "self.setCentralWidget(textEdit)\n",
    "```\n",
    "\n",
    "\n",
    "Here we create a text edit widget. We set it to be the central widget of the `QMainWindow`. The central widget will occupy all space that is left.\n",
    "\n",
    "![Figure: Main window](./img/mainwindow.png)\n",
    "\n",
    "<br>\n",
    "<hr>\n",
    "In this part of the PyQt6 tutorial, we worked with menus, toolbars, a statusbar, and a main application window."
   ]
  },
  {
   "cell_type": "markdown",
   "metadata": {},
   "source": [
    "## [<< Previous](03.FirstPrograms.ipynb) &nbsp;&nbsp;&nbsp;[Next >>](05.LayoutManagement.ipynb)"
   ]
  }
 ],
 "metadata": {
  "kernelspec": {
   "display_name": "Python 3 (ipykernel)",
   "language": "python",
   "name": "python3"
  },
  "language_info": {
   "codemirror_mode": {
    "name": "ipython",
    "version": 3
   },
   "file_extension": ".py",
   "mimetype": "text/x-python",
   "name": "python",
   "nbconvert_exporter": "python",
   "pygments_lexer": "ipython3",
   "version": "3.10.6"
  }
 },
 "nbformat": 4,
 "nbformat_minor": 2
}
