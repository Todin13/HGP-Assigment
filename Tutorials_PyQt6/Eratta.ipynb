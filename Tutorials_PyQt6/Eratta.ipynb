{
 "cells": [
  {
   "cell_type": "markdown",
   "metadata": {},
   "source": [
    "Note: If you experience any difficulty in running examples please do the following \n",
    "1. Select \"kernal-> restart\" from the menu\n",
    "2. Copy and pase the code into PyCharm and ensure that you have appropriate images saved in the abse folder. If you are working with icons then the png image should be 32x32 pixels.\n",
    "\n",
    "# 08.WidgetsPart1\n",
    "## QSlider \n",
    "- include icons for various volumn levels \n",
    "\n"
   ]
  },
  {
   "cell_type": "code",
   "execution_count": null,
   "metadata": {},
   "outputs": [],
   "source": []
  }
 ],
 "metadata": {
  "kernelspec": {
   "display_name": "Python 3 (ipykernel)",
   "language": "python",
   "name": "python3"
  },
  "language_info": {
   "codemirror_mode": {
    "name": "ipython",
    "version": 3
   },
   "file_extension": ".py",
   "mimetype": "text/x-python",
   "name": "python",
   "nbconvert_exporter": "python",
   "pygments_lexer": "ipython3",
   "version": "3.10.6"
  }
 },
 "nbformat": 4,
 "nbformat_minor": 2
}
