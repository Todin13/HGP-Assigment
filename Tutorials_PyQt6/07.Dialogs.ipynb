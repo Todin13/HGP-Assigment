{
 "cells": [
  {
   "cell_type": "markdown",
   "metadata": {},
   "source": [
    "<div style=\"text-align: right\"><small>Adapted from ZetCode PyQt6 tutorial by Jan Bodnar, zetcode.com</small></div>"
   ]
  },
  {
   "cell_type": "markdown",
   "metadata": {},
   "source": [
    "# 7. Dialogs in PyQt6\n",
    "\n",
    "Dialog windows or dialogs are an indispensable part of most modern GUI applications. A dialog is defined as a conversation between two or more persons. In a computer application a dialog is a window which is used to \"talk\" to the application. A dialog is used to input data, modify data, change the application settings etc."
   ]
  },
  {
   "cell_type": "code",
   "execution_count": 1,
   "metadata": {},
   "outputs": [
    {
     "data": {
      "text/html": [
       "<style>p{font-family: \"Avenir\";font-size: 1.15em;}</style>\n"
      ],
      "text/plain": [
       "<IPython.core.display.HTML object>"
      ]
     },
     "metadata": {},
     "output_type": "display_data"
    }
   ],
   "source": [
    "%%html\n",
    "<style>p{font-family: \"Avenir\";font-size: 1.15em;}</style>"
   ]
  },
  {
   "cell_type": "markdown",
   "metadata": {
    "slideshow": {
     "slide_type": "slide"
    }
   },
   "source": [
    "\n",
    "\n",
    "## QInputDialog\n",
    "\n",
    "`QInputDialog` provides a simple convenience dialog to get a single value from the user. The input value can be a string, a number, or an item from a list.\n",
    "\n"
   ]
  },
  {
   "cell_type": "code",
   "execution_count": null,
   "metadata": {
    "slideshow": {
     "slide_type": "fragment"
    }
   },
   "outputs": [],
   "source": [
    "#!/usr/bin/python\n",
    "\n",
    "\"\"\"\n",
    "ZetCode PyQt6 tutorial\n",
    "\n",
    "In this example, we receive data from a QInputDialog dialog.\n",
    "\n",
    "\"\"\"\n",
    "\n",
    "from PyQt6.QtWidgets import (QWidget, QPushButton, QLineEdit, QInputDialog, QApplication)\n",
    "import sys\n",
    "\n",
    "\n",
    "class Example(QWidget):\n",
    "\n",
    "    def __init__(self):\n",
    "        super().__init__()\n",
    "\n",
    "        self.initUI()\n",
    "\n",
    "\n",
    "    def initUI(self):\n",
    "\n",
    "        self.btn = QPushButton('Dialog', self)\n",
    "        self.btn.move(20, 20)\n",
    "        self.btn.clicked.connect(self.showDialog)\n",
    "\n",
    "        self.le = QLineEdit(self)\n",
    "        self.le.move(130, 22)\n",
    "\n",
    "        self.setGeometry(300, 300, 450, 350)\n",
    "        self.setWindowTitle('Input dialog')\n",
    "        self.show()\n",
    "\n",
    "\n",
    "    def showDialog(self):\n",
    "\n",
    "        text, ok = QInputDialog.getText(self, 'Input Dialog', 'Enter your name:')\n",
    "\n",
    "        if ok:\n",
    "            self.le.setText(str(text))\n",
    "\n",
    "\n",
    "def main():\n",
    "\n",
    "    app = QApplication(sys.argv)\n",
    "    ex = Example()\n",
    "    sys.exit(app.exec())\n",
    "\n",
    "\n",
    "if __name__ == '__main__':\n",
    "    main()\n"
   ]
  },
  {
   "cell_type": "markdown",
   "metadata": {
    "slideshow": {
     "slide_type": "slide"
    }
   },
   "source": [
    "The example has a button and a line edit widget. The button shows the input dialog for getting text values. The entered text will be displayed in the line edit widget.\n",
    "\n",
    "```python\n",
    "text, ok = QInputDialog.getText(self, 'Input Dialog', \n",
    "    'Enter your name:')\n",
    "```\n",
    "\n",
    "\n",
    "This line displays the input dialog. The first string is a dialog title, the second one is a message within the dialog. The dialog returns the entered text and a boolean value. If we click the Ok button, the boolean value is true.\n",
    "\n",
    "```python\n",
    "if ok:\n",
    "    self.le.setText(str(text))\n",
    "```\n",
    "\n",
    "\n",
    "The text that we have received from the dialog is set to the line edit widget with `setText()`.\n",
    "\n",
    "![Figure: Input dialog](./img/inputdialog.png)\n",
    "\n",
    "<br>\n",
    "<hr>\n",
    "\n",
    "## QColorDialog\n",
    "\n",
    "`QColorDialog` provides a dialog widget for selecting colour values.\n",
    "\n"
   ]
  },
  {
   "cell_type": "code",
   "execution_count": null,
   "metadata": {
    "slideshow": {
     "slide_type": "fragment"
    }
   },
   "outputs": [],
   "source": [
    "#!/usr/bin/python\n",
    "\n",
    "\"\"\"\n",
    "ZetCode PyQt6 tutorial\n",
    "\n",
    "In this example, we select a color value from the QColorDialog and change the background color of a QFrame widget.\n",
    "\n",
    "\"\"\"\n",
    "\n",
    "from PyQt6.QtWidgets import (QWidget, QPushButton, QFrame, QColorDialog, QApplication)\n",
    "from PyQt6.QtGui import QColor\n",
    "import sys\n",
    "\n",
    "\n",
    "class Example(QWidget):\n",
    "\n",
    "    def __init__(self):\n",
    "        super().__init__()\n",
    "\n",
    "        self.initUI()\n",
    "\n",
    "\n",
    "    def initUI(self):\n",
    "\n",
    "        col = QColor(0, 0, 0)\n",
    "\n",
    "        self.btn = QPushButton('Dialog', self)\n",
    "        self.btn.move(20, 20)\n",
    "\n",
    "        self.btn.clicked.connect(self.showDialog)\n",
    "\n",
    "        self.frm = QFrame(self)\n",
    "        self.frm.setStyleSheet(\"QWidget { background-color: %s }\"\n",
    "                               % col.name())\n",
    "        self.frm.setGeometry(130, 22, 200, 200)\n",
    "\n",
    "        self.setGeometry(300, 300, 450, 350)\n",
    "        self.setWindowTitle('Color dialog')\n",
    "        self.show()\n",
    "\n",
    "\n",
    "    def showDialog(self):\n",
    "\n",
    "        col = QColorDialog.getColor()\n",
    "\n",
    "        if col.isValid():\n",
    "\n",
    "            self.frm.setStyleSheet(\"QWidget { background-color: %s }\" \n",
    "                                   % col.name())\n",
    "\n",
    "\n",
    "def main():\n",
    "\n",
    "    app = QApplication(sys.argv)\n",
    "    ex = Example()\n",
    "    sys.exit(app.exec())\n",
    "\n",
    "\n",
    "if __name__ == '__main__':\n",
    "    main()"
   ]
  },
  {
   "cell_type": "markdown",
   "metadata": {
    "slideshow": {
     "slide_type": "slide"
    }
   },
   "source": [
    "The application example shows a push button and a `QFrame`. The widget background is set to black colour. Using the `QColorDialog`, we can change its background.\n",
    "\n",
    "```python\n",
    "col = QColor(0, 0, 0)\n",
    "```\n",
    "\n",
    "\n",
    "This is an initial colour of the `QFrame` background.\n",
    "\n",
    "```python\n",
    "col = QColorDialog.getColor()\n",
    "```\n",
    "\n",
    "\n",
    "This line pops up the `QColorDialog`.\n",
    "\n",
    "```python\n",
    "if col.isValid():\n",
    "    self.frm.setStyleSheet(\"QWidget { background-color: %s }\"\n",
    "        % col.name())\n",
    "```\n",
    "\n",
    "\n",
    "We check if the colour is valid. If we click on the Cancel button, no valid colour is returned. If the colour is valid, we change the background colour using style sheets.\n",
    "\n",
    "<br>\n",
    "<hr>\n",
    "\n",
    "\n",
    "## QFontDialog\n",
    "\n",
    "`QFontDialog` is a dialog widget for selecting a font.\n",
    "\n"
   ]
  },
  {
   "cell_type": "code",
   "execution_count": null,
   "metadata": {
    "slideshow": {
     "slide_type": "fragment"
    }
   },
   "outputs": [],
   "source": [
    "#!/usr/bin/python\n",
    "\n",
    "\"\"\"\n",
    "ZetCode PyQt6 tutorial\n",
    "\n",
    "In this example, we select a font name and change the font of a label.\n",
    "\n",
    "\"\"\"\n",
    "\n",
    "from PyQt6.QtWidgets import (QWidget, QVBoxLayout, QPushButton,\n",
    "        QSizePolicy, QLabel, QFontDialog, QApplication)\n",
    "import sys\n",
    "\n",
    "\n",
    "class Example(QWidget):\n",
    "\n",
    "    def __init__(self):\n",
    "        super().__init__()\n",
    "\n",
    "        self.initUI()\n",
    "\n",
    "\n",
    "    def initUI(self):\n",
    "\n",
    "        vbox = QVBoxLayout()\n",
    "\n",
    "        btn = QPushButton('Dialog', self)\n",
    "        btn.setSizePolicy(QSizePolicy.Policy.Fixed, QSizePolicy.Policy.Fixed)\n",
    "        btn.move(20, 20)\n",
    "\n",
    "        vbox.addWidget(btn)\n",
    "\n",
    "        btn.clicked.connect(self.showDialog)\n",
    "\n",
    "        self.lbl = QLabel('To be or not to be...', self)\n",
    "        self.lbl.move(130, 20)\n",
    "\n",
    "        vbox.addWidget(self.lbl)\n",
    "        self.setLayout(vbox)\n",
    "\n",
    "        self.setGeometry(300, 300, 450, 350)\n",
    "        self.setWindowTitle('Font dialog')\n",
    "        self.show()\n",
    "\n",
    "\n",
    "    def showDialog(self):\n",
    "\n",
    "        font, ok = QFontDialog.getFont()\n",
    "\n",
    "        if ok:\n",
    "            self.lbl.setFont(font)\n",
    "\n",
    "\n",
    "def main():\n",
    "\n",
    "    app = QApplication(sys.argv)\n",
    "    ex = Example()\n",
    "    sys.exit(app.exec())\n",
    "\n",
    "\n",
    "if __name__ == '__main__':\n",
    "    main()"
   ]
  },
  {
   "cell_type": "markdown",
   "metadata": {
    "slideshow": {
     "slide_type": "slide"
    }
   },
   "source": [
    "In our example, we have a button and a label. With the `QFontDialog`, we change the font of the label.\n",
    "\n",
    "```python\n",
    "font, ok = QFontDialog.getFont()\n",
    "```\n",
    "\n",
    "\n",
    "Here we pop up the font dialog. The `getFont()` method returns the font name and the ok parameter. It is equal to True if the user clicked Ok; otherwise it is False.\n",
    "\n",
    "```python\n",
    "if ok:\n",
    "    self.label.setFont(font)\n",
    "```\n",
    "\n",
    "\n",
    "If we clicked Ok, the font of the label is changed with `setFont()`.  \n",
    "\n",
    "<br>\n",
    "<hr>\n",
    "\n",
    "\n",
    "## QFileDialog\n",
    "\n",
    "`QFileDialog` is a dialog that allows users to select files or directories. The files can be selected for both opening and saving.\n",
    "\n"
   ]
  },
  {
   "cell_type": "code",
   "execution_count": null,
   "metadata": {
    "slideshow": {
     "slide_type": "fragment"
    }
   },
   "outputs": [],
   "source": [
    "#!/usr/bin/python\n",
    "\n",
    "\"\"\"\n",
    "ZetCode PyQt6 tutorial\n",
    "\n",
    "In this example, we select a file with a QFileDialog and display its contents in a QTextEdit.\n",
    "\n",
    "\"\"\"\n",
    "\n",
    "from PyQt6.QtWidgets import (QMainWindow, QTextEdit, QFileDialog, QApplication)\n",
    "from PyQt6.QtGui import QIcon, QAction\n",
    "from pathlib import Path\n",
    "import sys\n",
    "\n",
    "\n",
    "class Example(QMainWindow):\n",
    "\n",
    "    def __init__(self):\n",
    "        super().__init__()\n",
    "\n",
    "        self.initUI()\n",
    "\n",
    "\n",
    "    def initUI(self):\n",
    "\n",
    "        self.textEdit = QTextEdit()\n",
    "        self.setCentralWidget(self.textEdit)\n",
    "        self.statusBar()\n",
    "\n",
    "        openFile = QAction(QIcon('open.png'), 'Open', self)\n",
    "        openFile.setShortcut('Ctrl+O')\n",
    "        openFile.setStatusTip('Open new File')\n",
    "        openFile.triggered.connect(self.showDialog)\n",
    "\n",
    "        menubar = self.menuBar()\n",
    "        fileMenu = menubar.addMenu('&File')\n",
    "        fileMenu.addAction(openFile)\n",
    "\n",
    "        self.setGeometry(300, 300, 550, 450)\n",
    "        self.setWindowTitle('File dialog')\n",
    "        self.show()\n",
    "\n",
    "\n",
    "    def showDialog(self):\n",
    "\n",
    "        home_dir = str(Path.home())\n",
    "        fname = QFileDialog.getOpenFileName(self, 'Open file', home_dir)\n",
    "\n",
    "        if fname[0]:\n",
    "\n",
    "            f = open(fname[0], 'r')\n",
    "\n",
    "            with f:\n",
    "\n",
    "                data = f.read()\n",
    "                self.textEdit.setText(data)\n",
    "\n",
    "\n",
    "def main():\n",
    "\n",
    "    app = QApplication(sys.argv)\n",
    "    ex = Example()\n",
    "    sys.exit(app.exec())\n",
    "\n",
    "\n",
    "if __name__ == '__main__':\n",
    "    main()"
   ]
  },
  {
   "cell_type": "markdown",
   "metadata": {
    "slideshow": {
     "slide_type": "slide"
    }
   },
   "source": [
    "The example shows a menubar, centrally set text edit widget, and a statusbar. The menu item shows the `QFileDialog` which is used to select a file. The contents of the file are loaded into the text edit widget.\n",
    "\n",
    "```python\n",
    "class Example(QMainWindow):\n",
    "    \n",
    "    def __init__(self):\n",
    "        super().__init__()\n",
    "        \n",
    "        self.initUI()\n",
    "```\n",
    "\n",
    "\n",
    "The example is based on the `QMainWindow` widget because we centrally set a text edit widget.\n",
    "\n",
    "```python\n",
    "fname = QFileDialog.getOpenFileName(self, 'Open file', '/home')\n",
    "```\n",
    "\n",
    "\n",
    "We pop up the `QFileDialog`. The first string in the `getOpenFileName()` method is the caption. The second string specifies the dialog working directory. By default, the file filter is set to All files (*).\n",
    "\n",
    "```python\n",
    "if fname[0]:\n",
    "    f = open(fname[0], 'r')\n",
    "\n",
    "    with f:\n",
    "        data = f.read()\n",
    "        self.textEdit.setText(data)\n",
    "```\n",
    "\n",
    "\n",
    "The selected file name is read and the contents of the file are set to the text edit widget.  \n",
    "\n",
    "<hr>\n",
    "\n",
    "In this part of the PyQt6 tutorial, we worked with dialogs.\n",
    "\n"
   ]
  },
  {
   "cell_type": "markdown",
   "metadata": {},
   "source": [
    "## [<< Previous](06.EventsAndSignals.ipynb) &nbsp;&nbsp;&nbsp;[Next >>](08.WidgetsPart1.ipynb)"
   ]
  }
 ],
 "metadata": {
  "kernelspec": {
   "display_name": "Python 3 (ipykernel)",
   "language": "python",
   "name": "python3"
  },
  "language_info": {
   "codemirror_mode": {
    "name": "ipython",
    "version": 3
   },
   "file_extension": ".py",
   "mimetype": "text/x-python",
   "name": "python",
   "nbconvert_exporter": "python",
   "pygments_lexer": "ipython3",
   "version": "3.10.6"
  }
 },
 "nbformat": 4,
 "nbformat_minor": 2
}
