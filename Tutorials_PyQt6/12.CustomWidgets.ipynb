{
 "cells": [
  {
   "cell_type": "markdown",
   "metadata": {},
   "source": [
    "<div style=\"text-align: right\"><small>Adapted from ZetCode PyQt6 tutorial by Jan Bodnar, zetcode.com</small></div>"
   ]
  },
  {
   "cell_type": "markdown",
   "metadata": {},
   "source": [
    "# 12. Custom widgets in PyQt6\n",
    "\n",
    "PyQt6 has a rich set of widgets. However, no toolkit can provide all widgets that programmers might need in their applications. Toolkits usually provide only the most common widgets like buttons, text widgets, or sliders. If there is a need for a more specialised widget, we must create it ourselves.\n",
    "\n",
    "Custom widgets are created by using the drawing tools provided by the toolkit. There are two basic possibilities: a programmer can modify or enhance an existing widget or he can create a custom widget from scratch."
   ]
  },
  {
   "cell_type": "code",
   "execution_count": 3,
   "metadata": {},
   "outputs": [
    {
     "data": {
      "text/html": [
       "<style>p{font-family: \"Avenir\";font-size: 1.15em;}</style>\n"
      ],
      "text/plain": [
       "<IPython.core.display.HTML object>"
      ]
     },
     "metadata": {},
     "output_type": "display_data"
    }
   ],
   "source": [
    "%%html\n",
    "<style>p{font-family: \"Avenir\";font-size: 1.15em;}</style>"
   ]
  },
  {
   "cell_type": "markdown",
   "metadata": {
    "slideshow": {
     "slide_type": "slide"
    }
   },
   "source": [
    "  \n",
    "\n",
    "## Burning widget\n",
    "\n",
    "This is a widget that we can see in Nero, K3B, or other CD/DVD burning software.\n",
    "\n"
   ]
  },
  {
   "cell_type": "code",
   "execution_count": 1,
   "metadata": {
    "slideshow": {
     "slide_type": "fragment"
    }
   },
   "outputs": [
    {
     "ename": "SystemExit",
     "evalue": "0",
     "output_type": "error",
     "traceback": [
      "An exception has occurred, use %tb to see the full traceback.\n",
      "\u001b[0;31mSystemExit\u001b[0m\u001b[0;31m:\u001b[0m 0\n"
     ]
    },
    {
     "name": "stderr",
     "output_type": "stream",
     "text": [
      "/Users/alexcronin/anaconda3/envs/hgp/lib/python3.6/site-packages/IPython/core/interactiveshell.py:2969: UserWarning: To exit: use 'exit', 'quit', or Ctrl-D.\n",
      "  warn(\"To exit: use 'exit', 'quit', or Ctrl-D.\", stacklevel=1)\n"
     ]
    }
   ],
   "source": [
    "#!/usr/bin/python\n",
    "\n",
    "\"\"\"\n",
    "ZetCode PyQt6 tutorial\n",
    "\n",
    "In this example, we create a custom widget.\n",
    "\n",
    "\"\"\"\n",
    "\n",
    "from PyQt6.QtWidgets import (QWidget, QSlider, QApplication, QHBoxLayout, QVBoxLayout)\n",
    "from PyQt6.QtCore import QObject, Qt, pyqtSignal\n",
    "from PyQt6.QtGui import QPainter, QFont, QColor, QPen\n",
    "import sys\n",
    "\n",
    "\n",
    "class Communicate(QObject):\n",
    "    updateBW = pyqtSignal(int)\n",
    "\n",
    "\n",
    "class BurningWidget(QWidget):\n",
    "\n",
    "    def __init__(self):\n",
    "        super().__init__()\n",
    "\n",
    "        self.initUI()\n",
    "\n",
    "\n",
    "    def initUI(self):\n",
    "\n",
    "        self.setMinimumSize(1, 30)\n",
    "        self.value = 75\n",
    "        self.num = [75, 150, 225, 300, 375, 450, 525, 600, 675]\n",
    "\n",
    "\n",
    "    def setValue(self, value):\n",
    "\n",
    "        self.value = value\n",
    "\n",
    "\n",
    "    def paintEvent(self, e):\n",
    "\n",
    "        qp = QPainter()\n",
    "        qp.begin(self)\n",
    "        self.drawWidget(qp)\n",
    "        qp.end()\n",
    "\n",
    "\n",
    "    def drawWidget(self, qp):\n",
    "\n",
    "        MAX_CAPACITY = 700\n",
    "        OVER_CAPACITY = 750\n",
    "\n",
    "        font = QFont('Serif', 7, QFont.Weight.Light)\n",
    "        qp.setFont(font)\n",
    "\n",
    "        size = self.size()\n",
    "        w = size.width()\n",
    "        h = size.height()\n",
    "\n",
    "        step = int(round(w / 10))\n",
    "\n",
    "        till = int(((w / OVER_CAPACITY) * self.value))\n",
    "        full = int(((w / OVER_CAPACITY) * MAX_CAPACITY))\n",
    "\n",
    "        if self.value >= MAX_CAPACITY:\n",
    "\n",
    "            qp.setPen(QColor(255, 255, 255))\n",
    "            qp.setBrush(QColor(255, 255, 184))\n",
    "            qp.drawRect(0, 0, full, h)\n",
    "            qp.setPen(QColor(255, 175, 175))\n",
    "            qp.setBrush(QColor(255, 175, 175))\n",
    "            qp.drawRect(full, 0, till - full, h)\n",
    "\n",
    "        else:\n",
    "\n",
    "            qp.setPen(QColor(255, 255, 255))\n",
    "            qp.setBrush(QColor(255, 255, 184))\n",
    "            qp.drawRect(0, 0, till, h)\n",
    "\n",
    "        pen = QPen(QColor(20, 20, 20), 1, Qt.PenStyle.SolidLine)\n",
    "\n",
    "        qp.setPen(pen)\n",
    "        qp.setBrush(Qt.BrushStyle.NoBrush)\n",
    "        qp.drawRect(0, 0, w - 1, h - 1)\n",
    "\n",
    "        j = 0\n",
    "\n",
    "        for i in range(step, 10 * step, step):\n",
    "\n",
    "            qp.drawLine(i, 0, i, 5)\n",
    "            metrics = qp.fontMetrics()\n",
    "            fw = metrics.horizontalAdvance(str(self.num[j]))\n",
    "\n",
    "            x, y = int(i - fw/2), int(h / 2)\n",
    "            qp.drawText(x, y, str(self.num[j]))\n",
    "            j = j + 1\n",
    "\n",
    "\n",
    "class Example(QWidget):\n",
    "\n",
    "    def __init__(self):\n",
    "        super().__init__()\n",
    "\n",
    "        self.initUI()\n",
    "\n",
    "\n",
    "    def initUI(self):\n",
    "\n",
    "        OVER_CAPACITY = 750\n",
    "\n",
    "        sld = QSlider(Qt.Orientations.Horizontal, self)\n",
    "        sld.setFocusPolicy(Qt.FocusPolicy.NoFocus)\n",
    "        sld.setRange(1, OVER_CAPACITY)\n",
    "        sld.setValue(75)\n",
    "        sld.setGeometry(30, 40, 150, 30)\n",
    "\n",
    "        self.c = Communicate()\n",
    "        self.wid = BurningWidget()\n",
    "        self.c.updateBW[int].connect(self.wid.setValue)\n",
    "\n",
    "        sld.valueChanged[int].connect(self.changeValue)\n",
    "        hbox = QHBoxLayout()\n",
    "        hbox.addWidget(self.wid)\n",
    "        vbox = QVBoxLayout()\n",
    "        vbox.addStretch(1)\n",
    "        vbox.addLayout(hbox)\n",
    "        self.setLayout(vbox)\n",
    "\n",
    "        self.setGeometry(300, 300, 390, 210)\n",
    "        self.setWindowTitle('Burning widget')\n",
    "        self.show()\n",
    "\n",
    "\n",
    "    def changeValue(self, value):\n",
    "\n",
    "        self.c.updateBW.emit(value)\n",
    "        self.wid.repaint()\n",
    "\n",
    "\n",
    "def main():\n",
    "\n",
    "    app = QApplication(sys.argv)\n",
    "    ex = Example()\n",
    "    sys.exit(app.exec())\n",
    "\n",
    "\n",
    "if __name__ == '__main__':\n",
    "    main()"
   ]
  },
  {
   "cell_type": "markdown",
   "metadata": {
    "slideshow": {
     "slide_type": "slide"
    }
   },
   "source": [
    "In our example, we have a `QSlider` and a custom widget. The slider controls the custom widget. This widget shows graphically the total capacity of a medium and the free space available to us. The minimum value of our custom widget is 1, the maximum is OVER_CAPACITY. If we reach value MAX_CAPACITY, we begin drawing in red colour. This normally indicates overburning.\n",
    "\n",
    "The burning widget is placed at the bottom of the window. This is achieved using one `QHBoxLayout` and one `QVBoxLayout`.\n",
    "\n",
    "```python\n",
    "class BurningWidget(QWidget):\n",
    "  \n",
    "    def __init__(self):      \n",
    "        super().__init__()\n",
    "```\n",
    "\n",
    "\n",
    "The burning widget it based on the `QWidget` widget.\n",
    "\n",
    "```python\n",
    "self.setMinimumSize(1, 30)\n",
    "```\n",
    "\n",
    "\n",
    "We change the minimum size (height) of the widget. The default value is a bit small for us.\n",
    "\n",
    "```python\n",
    "font = QFont('Serif', 7, QFont.Weight.Light)\n",
    "qp.setFont(font)\n",
    "```\n",
    "\n",
    "\n",
    "We use a smaller font than the default one. This better suits our needs.\n",
    "\n",
    "```python\n",
    "size = self.size()\n",
    "w = size.width()\n",
    "h = size.height()\n",
    "\n",
    "step = int(round(w / 10))\n",
    "\n",
    "\n",
    "till = int(((w / OVER_CAPACITY) * self.value))\n",
    "full = int(((w / OVER_CAPACITY) * MAX_CAPACITY))\n",
    "```\n",
    "\n",
    "\n",
    "We draw the widget dynamically. The greater is the window, the greater is the burning widget and vice versa. That is why we must calculate the size of the widget onto which we draw the custom widget. The `till` parameter determines the total size to be drawn. This value comes from the slider widget. It is a proportion of the whole area. The `full` parameter determines the point where we begin to draw in red colour.\n",
    "\n",
    "The actual drawing consists of three steps. We draw the yellow or the red and yellow rectangle. Then we draw the vertical lines which divide the widget into several parts. Finally, we draw the numbers which indicate the capacity of the medium.\n",
    "\n",
    "```python\n",
    "metrics = qp.fontMetrics()\n",
    "fw = metrics.horizontalAdvance(str(self.num[j]))\n",
    "\n",
    "\n",
    "x, y = int(i - fw/2), int(h / 2)\n",
    "qp.drawText(x, y, str(self.num[j]))\n",
    "```\n",
    "\n",
    "\n",
    "We use font metrics to draw the text. We must know the width of the text in order to center it around the vertical line.\n",
    "\n",
    "```python\n",
    "def changeValue(self, value):\n",
    "          \n",
    "    self.c.updateBW.emit(value)        \n",
    "    self.wid.repaint()\n",
    "```\n",
    "\n",
    "\n",
    "When we move the slider, the `changeValue()` method is called. Inside the method, we send a custom `updateBW` signal with a parameter. The parameter is the current value of the slider. The value is later used to calculate the capacity of the Burning widget to be drawn. The custom widget is then repainted.\n",
    "\n",
    "![Figure: The burning widget](./img/burning.png)\n",
    "\n",
    "\n",
    "<br>\n",
    "<br>\n",
    "\n",
    "<hr>  \n",
    "\n",
    "In this part of the PyQt6 tutorial, we created a custom widget.\n",
    "\n"
   ]
  },
  {
   "cell_type": "markdown",
   "metadata": {},
   "source": [
    "## [<< Previous](11.Painting.ipynb) &nbsp;&nbsp;&nbsp;[Next >>](13.TheTetrisGame.ipynb)"
   ]
  }
 ],
 "metadata": {
  "kernelspec": {
   "display_name": "Python 3 (ipykernel)",
   "language": "python",
   "name": "python3"
  },
  "language_info": {
   "codemirror_mode": {
    "name": "ipython",
    "version": 3
   },
   "file_extension": ".py",
   "mimetype": "text/x-python",
   "name": "python",
   "nbconvert_exporter": "python",
   "pygments_lexer": "ipython3",
   "version": "3.10.6"
  }
 },
 "nbformat": 4,
 "nbformat_minor": 2
}
