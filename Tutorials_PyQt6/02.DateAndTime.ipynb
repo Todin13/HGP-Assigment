{
 "cells": [
  {
   "cell_type": "markdown",
   "metadata": {},
   "source": [
    "<div style=\"text-align: right\"><small>Adapted from ZetCode PyQt6 tutorial by Jan Bodnar, zetcode.com</small></div>"
   ]
  },
  {
   "cell_type": "markdown",
   "metadata": {},
   "source": [
    "# 2. PyQt6 date and time\n",
    "\n",
    "This part of the PyQt6 tutorial shows how to work with date and time in PyQt6."
   ]
  },
  {
   "cell_type": "code",
   "execution_count": 1,
   "metadata": {},
   "outputs": [
    {
     "data": {
      "text/html": [
       "<style>p{font-family: \"Avenir\";font-size: 1.15em;}</style>\n"
      ],
      "text/plain": [
       "<IPython.core.display.HTML object>"
      ]
     },
     "metadata": {},
     "output_type": "display_data"
    }
   ],
   "source": [
    "%%html\n",
    "<style>p{font-family: \"Avenir\";font-size: 1.15em;}</style>"
   ]
  },
  {
   "cell_type": "markdown",
   "metadata": {
    "slideshow": {
     "slide_type": "slide"
    }
   },
   "source": [
    "\n",
    "\n",
    "## QDate, QTime, QDateTime\n",
    "\n",
    "PyQt6 has `QDate`, `QDateTime`, `QTime` classes to work with date and time. The `QDate` is a class for working with a calendar date in the Gregorian calendar. It has methods for determining the date, comparing, or manipulating dates. The `QTime` class works with a clock time. It provides methods for comparing time, determining the time and various other time manipulating methods. The `QDateTime` is a class that combines both `QDate` and `QTime` objects into one object.\n",
    "\n",
    "<br>\n",
    "<hr>\n",
    "\n",
    "## Current date and time\n",
    "\n",
    "PyQt6 has `currentDate()`, `currentTime()` and `currentDateTime()` methods for determining current date and time.\n",
    "\n"
   ]
  },
  {
   "cell_type": "code",
   "execution_count": 2,
   "metadata": {
    "slideshow": {
     "slide_type": "fragment"
    }
   },
   "outputs": [
    {
     "name": "stdout",
     "output_type": "stream",
     "text": [
      "2024-10-05\n",
      "05 Oct 2024\n",
      "Sat Oct 5 01:09:37 2024\n",
      "01:09:37\n"
     ]
    }
   ],
   "source": [
    "#!/usr/bin/python3\n",
    "\n",
    "from PyQt6.QtCore import QDate, QTime, QDateTime, Qt\n",
    "\n",
    "now = QDate.currentDate()\n",
    "\n",
    "print(now.toString(Qt.DateFormat.ISODate))\n",
    "print(now.toString(Qt.DateFormat.RFC2822Date))\n",
    "\n",
    "datetime = QDateTime.currentDateTime()\n",
    "\n",
    "print(datetime.toString())\n",
    "\n",
    "time = QTime.currentTime()\n",
    "print(time.toString(Qt.DateFormat.ISODate))\n"
   ]
  },
  {
   "cell_type": "markdown",
   "metadata": {
    "slideshow": {
     "slide_type": "slide"
    }
   },
   "source": [
    "The example prints the current date, date and time, and time in various formats.\n",
    "\n",
    "```python\n",
    "now = QDate.currentDate()\n",
    "```\n",
    "\n",
    "\n",
    "The `currentDate()` method returns the current date.\n",
    "\n",
    "```python\n",
    "print(now.toString(Qt.DateFormat.ISODate))\n",
    "print(now.toString(Qt.DateFormat.RFC2822Date))\n",
    "```\n",
    "\n",
    "\n",
    "The date is printed in two different formats by passing the values `Qt.ISODate` and `Qt.DateFormat.RFC2822Date` to the `toString()` method.\n",
    "\n",
    "```python\n",
    "datetime = QDateTime.currentDateTime()\n",
    "```\n",
    "\n",
    "\n",
    "The `currentDateTime()` returns the current date and time.\n",
    "\n",
    "```python\n",
    "time = QTime.currentTime()\n",
    "```\n",
    "\n",
    "\n",
    "Finally, the currentTime() method returns the current time.\n",
    "\n",
    "```bash\n",
    "$ ./current_date_time.py\n",
    "2022-08-01\n",
    "01 Aug 2022\n",
    "Mon Aug 1 11:54:43 2022\n",
    "11:54:43\n",
    "```\n",
    "\n",
    "\n",
    "This is the output.\n",
    "\n",
    "<br>\n",
    "<hr>\n",
    "\n",
    "## UTC time\n",
    "\n",
    "Our planet is a sphere; it revolves round its axis. The Earth rotates towards the east, so the Sun rises at different times in different locations. The Earth rotates once in about 24 hours. Therefore, the world was divided into 24 time zones. In each time zone, there is a different local time. This local time is often further modified by the daylight saving.\n",
    "\n",
    "There is a pragmatic need for one global time. One global time helps to avoid confusion about time zones and daylight saving time. The UTC (Universal Coordinated time) was chosen to be the primary time standard. UTC is used in aviation, weather forecasts, flight plans, air traffic control clearances, and maps. Unlike local time, UTC does not change with a change of seasons.\n",
    "\n"
   ]
  },
  {
   "cell_type": "code",
   "execution_count": 3,
   "metadata": {
    "slideshow": {
     "slide_type": "fragment"
    }
   },
   "outputs": [
    {
     "name": "stdout",
     "output_type": "stream",
     "text": [
      "Local datetime:  2024-10-05T01:09:42\n",
      "Universal datetime:  2024-10-04T23:09:42Z\n",
      "The offset from UTC is: 7200 seconds\n"
     ]
    }
   ],
   "source": [
    "#!/usr/bin/python3\n",
    "\n",
    "from PyQt6.QtCore import QDateTime, Qt\n",
    "\n",
    "now = QDateTime.currentDateTime()\n",
    "\n",
    "print('Local datetime: ', now.toString(Qt.DateFormat.ISODate))\n",
    "print('Universal datetime: ', now.toUTC().toString(Qt.DateFormat.ISODate))\n",
    "\n",
    "print(f'The offset from UTC is: {now.offsetFromUtc()} seconds')\n"
   ]
  },
  {
   "cell_type": "markdown",
   "metadata": {
    "slideshow": {
     "slide_type": "slide"
    }
   },
   "source": [
    "The example determines the current universal and local date and time.\n",
    "\n",
    "```python\n",
    "print(\"Local datetime: \", now.toString(Qt.DateFormat.ISODate))\n",
    "```\n",
    "\n",
    "\n",
    "The `currentDateTime()` method returns the current date and time expressed as local time. We can use the `toLocalTime()` to convert a universal time into a local time.\n",
    "\n",
    "```python\n",
    "print('Universal datetime: ', now.toUTC().toString(Qt.DateFormat.ISODate))\n",
    "```\n",
    "\n",
    "\n",
    "We get the universal time with the `toUTC()` method from the date time object.\n",
    "\n",
    "```python\n",
    "print(f'The offset from UTC is: {now.offsetFromUtc()} seconds')\n",
    "```\n",
    "\n",
    "\n",
    "The `offsetFromUtc()` gives the difference between universal time and local time in seconds.\n",
    "\n",
    "```bash\n",
    "$ ./utc_local.py\n",
    "Local datetime:  2022-08-01T11:55:55\n",
    "Universal datetime:  2022-08-01T09:55:55Z\n",
    "The offset from UTC is: 7200 seconds\n",
    "```\n",
    "\n",
    "\n",
    "This is the output.\n",
    "\n",
    "<br>\n",
    "<hr>\n",
    "  \n",
    "## Number of days \n",
    "   \n",
    "The number of days in a particular month is returned by the `daysInMonth()` method and the number of days in a year by the `daysInYear()` method.\n",
    "\n"
   ]
  },
  {
   "cell_type": "code",
   "execution_count": 4,
   "metadata": {
    "slideshow": {
     "slide_type": "fragment"
    }
   },
   "outputs": [
    {
     "name": "stdout",
     "output_type": "stream",
     "text": [
      "Days in month: 31\n",
      "Days in year: 365\n"
     ]
    }
   ],
   "source": [
    "#!/usr/bin/python3\n",
    "\n",
    "from PyQt6.QtCore import QDate\n",
    "\n",
    "now = QDate.currentDate()\n",
    "\n",
    "d = QDate(1945, 5, 7)\n",
    "\n",
    "print(f'Days in month: {d.daysInMonth()}')\n",
    "print(f'Days in year: {d.daysInYear()}')\n"
   ]
  },
  {
   "cell_type": "markdown",
   "metadata": {
    "slideshow": {
     "slide_type": "slide"
    }
   },
   "source": [
    "The example prints the number of days in a month and year for the chosen date.\n",
    "\n",
    "```bash\n",
    "$ ./days.py \n",
    "Days in month: 31\n",
    "Days in year: 365\n",
    "```\n",
    "\n",
    "\n",
    "This is the output.\n",
    "\n",
    "<br>\n",
    "<hr>\n",
    "\n",
    "## Difference in days\n",
    "\n",
    "The `daysTo()` method returns the number of days from a date to another date.\n",
    "\n"
   ]
  },
  {
   "cell_type": "code",
   "execution_count": 5,
   "metadata": {
    "slideshow": {
     "slide_type": "fragment"
    }
   },
   "outputs": [
    {
     "name": "stdout",
     "output_type": "stream",
     "text": [
      "today is 2024-10-05\n",
      "285 days have passed since last XMas\n",
      "There are 81 days until next XMas\n"
     ]
    }
   ],
   "source": [
    "#!/usr/bin/python3\n",
    "\n",
    "from PyQt6.QtCore import QDate, Qt\n",
    "\n",
    "now = QDate.currentDate()\n",
    "y = now.year()\n",
    "\n",
    "print(f'today is {now.toString(Qt.DateFormat.ISODate)}')\n",
    "\n",
    "xmas1 = QDate(y-1, 12, 25)\n",
    "xmas2 = QDate(y, 12, 25)\n",
    "\n",
    "dayspassed = xmas1.daysTo(now)\n",
    "print(f'{dayspassed} days have passed since last XMas')\n",
    "\n",
    "nofdays = now.daysTo(xmas2)\n",
    "print(f'There are {nofdays} days until next XMas')\n"
   ]
  },
  {
   "cell_type": "markdown",
   "metadata": {
    "slideshow": {
     "slide_type": "slide"
    }
   },
   "source": [
    "The example calculates the number of days passed from the last XMas and the number of days until the next XMas.\n",
    "\n",
    "```python\n",
    "$ ./xmas.py\n",
    "today is 2022-08-01\n",
    "219 days have passed since last XMas\n",
    "There are 146 days until next XMas\n",
    "```\n",
    "This is the output.\n",
    "\n",
    "<br>\n",
    "<hr>\n",
    "\n",
    "## Datetime arithmetic\n",
    "\n",
    "We often need to add or subtract days, seconds, or years to a datetime value.\n",
    "\n"
   ]
  },
  {
   "cell_type": "code",
   "execution_count": 6,
   "metadata": {
    "slideshow": {
     "slide_type": "fragment"
    }
   },
   "outputs": [
    {
     "name": "stdout",
     "output_type": "stream",
     "text": [
      "Today: 2024-10-05T01:09:50\n",
      "Adding 12 days: 2024-10-17T01:09:50\n",
      "Subtracting 22 days: 2024-09-13T01:09:50\n",
      "Adding 50 seconds: 2024-10-05T01:10:40\n",
      "Adding 3 months: 2025-01-05T01:09:50\n",
      "Adding 12 years: 2036-10-05T01:09:50\n"
     ]
    }
   ],
   "source": [
    "#!/usr/bin/python3\n",
    "\n",
    "from PyQt6.QtCore import QDateTime, Qt\n",
    "\n",
    "now = QDateTime.currentDateTime()\n",
    "\n",
    "print(f'Today: {now.toString(Qt.DateFormat.ISODate)}')\n",
    "print(f'Adding 12 days: {now.addDays(12).toString(Qt.DateFormat.ISODate)}')\n",
    "print(f'Subtracting 22 days: {now.addDays(-22).toString(Qt.DateFormat.ISODate)}')\n",
    "\n",
    "print(f'Adding 50 seconds: {now.addSecs(50).toString(Qt.DateFormat.ISODate)}')\n",
    "print(f'Adding 3 months: {now.addMonths(3).toString(Qt.DateFormat.ISODate)}')\n",
    "print(f'Adding 12 years: {now.addYears(12).toString(Qt.DateFormat.ISODate)}')\n"
   ]
  },
  {
   "cell_type": "markdown",
   "metadata": {
    "slideshow": {
     "slide_type": "slide"
    }
   },
   "source": [
    "The example determines the current datetime and add or subtract days, seconds, months, and years.\n",
    "\n",
    "```bash\n",
    "$ ./arithmetic.py\n",
    "Today: 2022-08-01T11:57:13\n",
    "Adding 12 days: 2022-08-13T11:57:13\n",
    "Subtracting 22 days: 2022-07-10T11:57:13\n",
    "Adding 50 seconds: 2022-08-01T11:58:03\n",
    "Adding 3 months: 2022-11-01T11:57:13\n",
    "Adding 12 years: 2034-08-01T11:57:13\n",
    "```\n",
    "\n",
    "\n",
    "This is the example output.\n",
    "\n",
    "<br>\n",
    "<hr>\n",
    "\n",
    "## Daylight saving time\n",
    "\n",
    "Daylight saving time (DST) is the practice of advancing clocks during summer months so that evening daylight lasts longer. The time is adjusted forward one hour in the beginning of spring and adjusted backward in the autumn to standard time.\n",
    "\n"
   ]
  },
  {
   "cell_type": "code",
   "execution_count": 7,
   "metadata": {
    "slideshow": {
     "slide_type": "fragment"
    }
   },
   "outputs": [
    {
     "name": "stdout",
     "output_type": "stream",
     "text": [
      "Time zone: CEST\n",
      "The current date falls into DST time\n"
     ]
    }
   ],
   "source": [
    "#!/usr/bin/python3\n",
    "\n",
    "from PyQt6.QtCore import QDateTime, QTimeZone, Qt\n",
    "\n",
    "now = QDateTime.currentDateTime()\n",
    "\n",
    "print(f'Time zone: {now.timeZoneAbbreviation()}')\n",
    "\n",
    "if now.isDaylightTime():\n",
    "    print('The current date falls into DST time')\n",
    "else:\n",
    "    print('The current date does not fall into DST time')\n"
   ]
  },
  {
   "cell_type": "markdown",
   "metadata": {
    "slideshow": {
     "slide_type": "slide"
    }
   },
   "source": [
    "The example checks if the datetime is in the daylight saving time.\n",
    "\n",
    "```python\n",
    "print(f'Time zone: {now.timeZoneAbbreviation()}')\n",
    "```\n",
    "\n",
    "\n",
    "The `timeZoneAbbreviation()` method returns the time zone abbreviation for the datetime.\n",
    "\n",
    "```python\n",
    "if now.isDaylightTime():\n",
    "```\n",
    "\n",
    "\n",
    "The `isDaylightTime()` returns if the datetime falls in daylight saving time.\n",
    "\n",
    "```bash\n",
    "$ ./daylight_saving.py\n",
    "Time zone: CEST\n",
    "The current date falls into DST time\n",
    "```\n",
    "\n",
    "\n",
    "The current date falls into DST time The program was executed in Bratislava, which is a city in Central Europe, during summer. Central European Summer Time (CEST) is 2 hours ahead of universtal time. This time zone is a daylight saving time time zone and is used in Europe and Antarctica. The standard time, which is used in winter, is Central European Time (CET).\n",
    "\n",
    "<br>\n",
    "<hr>\n",
    "\n",
    "## Unix epoch\n",
    "\n",
    "An epoch is an instant in time chosen as the origin of a particular era. For example in western Christian countries the time epoch starts from day 0, when Jesus was born. Another example is the French Republican Calendar which was used for twelve years. The epoch was the beginning of the Republican Era which was proclaimed on September 22, 1792, the day the First Republic was declared and the monarchy abolished.\n",
    "\n",
    "Computers have their epochs too. One of the most popular is the Unix epoch. The Unix epoch is the time 00:00:00 UTC on 1 January 1970 (or 1970- 01-01T00:00:00Z ISO 8601). The date and time in a computer is determined according to the number of seconds or clock ticks that have elapsed since the defined epoch for that computer or platform.\n",
    "\n",
    "<dfn>Unix time</dfn> is the number of seconds elapsed since Unix epoch.\n",
    "\n",
    "```bash\n",
    "$ date +%s\n",
    "1659347883\n",
    "```\n",
    "\n",
    "\n",
    "Unix date command can be used to get the Unix time. At this particular moment, 1659347883 seconds have passed since the Unix epoch.\n",
    "\n"
   ]
  },
  {
   "cell_type": "code",
   "execution_count": 8,
   "metadata": {
    "slideshow": {
     "slide_type": "fragment"
    }
   },
   "outputs": [
    {
     "name": "stdout",
     "output_type": "stream",
     "text": [
      "1728083395\n",
      "2024-10-05T01:09:55\n"
     ]
    }
   ],
   "source": [
    "#!/usr/bin/python3\n",
    "\n",
    "from PyQt6.QtCore import QDateTime, Qt\n",
    "\n",
    "now = QDateTime.currentDateTime()\n",
    "\n",
    "unix_time = now.toSecsSinceEpoch()\n",
    "print(unix_time)\n",
    "\n",
    "d = QDateTime.fromSecsSinceEpoch(unix_time)\n",
    "print(d.toString(Qt.DateFormat.ISODate))\n"
   ]
  },
  {
   "cell_type": "markdown",
   "metadata": {
    "slideshow": {
     "slide_type": "slide"
    }
   },
   "source": [
    "The example prints the Unix time and converts it back to the `QDateTime`.\n",
    "\n",
    "```python\n",
    "now = QDateTime.currentDateTime()\n",
    "```\n",
    "\n",
    "\n",
    "First, we retrieve the current date and time.\n",
    "\n",
    "```python\n",
    "unix_time = now.toSecsSinceEpoch()\n",
    "```\n",
    "\n",
    "\n",
    "The `toSecsSinceEpoch()` returns the Unix time.\n",
    "\n",
    "```python\n",
    "d = QDateTime.fromSecsSinceEpoch(unix_time)\n",
    "```\n",
    "\n",
    "\n",
    "With the `fromSecsSinceEpoch()` we convert the Unix time to `QDateTime`.\n",
    "\n",
    "```bash\n",
    "$ ./unix_time.py\n",
    "1659347924\n",
    "2022-08-01T11:58:44\n",
    "```\n",
    "\n",
    "\n",
    "This is the output.\n",
    "\n",
    "<br>\n",
    "<hr>\n",
    "\n",
    "## Julian day\n",
    "\n",
    "Julian day refers to a continuous count of days since the beginning of the Julian Period. It is used primarily by astronomers. It should not be confused with the Julian calendar. The Julian Period started in 4713 BC. The Julian day number 0 is assigned to the day starting at noon on January 1, 4713 BC.\n",
    "\n",
    "The Julian Day Number (JDN) is the number of days elapsed since the beginning of this period. The Julian Date (JD) of any instant is the Julian day number for the preceding noon plus the fraction of the day since that instant. (Qt does not compute this fraction.) Apart from astronomy, Julian dates are often used by military and mainframe programs.\n",
    "\n"
   ]
  },
  {
   "cell_type": "code",
   "execution_count": 9,
   "metadata": {
    "slideshow": {
     "slide_type": "fragment"
    }
   },
   "outputs": [
    {
     "name": "stdout",
     "output_type": "stream",
     "text": [
      "Gregorian date for today: 2024-10-05\n",
      "Julian day for today: 2460589\n"
     ]
    }
   ],
   "source": [
    "#!/usr/bin/python3\n",
    "\n",
    "from PyQt6.QtCore import QDate, Qt\n",
    "\n",
    "now = QDate.currentDate()\n",
    "\n",
    "print('Gregorian date for today:', now.toString(Qt.DateFormat.ISODate))\n",
    "print('Julian day for today:', now.toJulianDay())"
   ]
  },
  {
   "cell_type": "markdown",
   "metadata": {
    "slideshow": {
     "slide_type": "slide"
    }
   },
   "source": [
    "In the example, we compute the Gregorian date and the Julian day for today.\n",
    "\n",
    "```python\n",
    "print(\"Julian day for today: \", now.toJulianDay())\n",
    "```\n",
    "\n",
    "\n",
    "The Julian day is returned with the `toJulianDay()` method.\n",
    "\n",
    "```bash\n",
    "$ ./julian_day.py\n",
    "Gregorian date for today: 2022-08-01\n",
    "Julian day for today: 2459793\n",
    "```\n",
    "This is the output.\n",
    "\n",
    "## Historical battles\n",
    "\n",
    "With Julian day it is possible to do calculations that span centuries.\n",
    "\n"
   ]
  },
  {
   "cell_type": "code",
   "execution_count": 10,
   "metadata": {
    "slideshow": {
     "slide_type": "fragment"
    }
   },
   "outputs": [
    {
     "name": "stdout",
     "output_type": "stream",
     "text": [
      "Days since Slavkov battle: 79931\n",
      "Days since Borodino battle: 77460\n"
     ]
    }
   ],
   "source": [
    "#!/usr/bin/python3\n",
    "\n",
    "from PyQt6.QtCore import QDate, Qt\n",
    "\n",
    "borodino_battle = QDate(1812, 9, 7)\n",
    "slavkov_battle = QDate(1805, 12, 2)\n",
    "\n",
    "now = QDate.currentDate()\n",
    "\n",
    "j_today = now.toJulianDay()\n",
    "j_borodino = borodino_battle.toJulianDay()\n",
    "j_slavkov = slavkov_battle.toJulianDay()\n",
    "\n",
    "d1 = j_today - j_slavkov\n",
    "d2 = j_today - j_borodino\n",
    "\n",
    "print(f'Days since Slavkov battle: {d1}')\n",
    "print(f'Days since Borodino battle: {d2}')"
   ]
  },
  {
   "cell_type": "markdown",
   "metadata": {
    "slideshow": {
     "slide_type": "slide"
    }
   },
   "source": [
    "The example counts the number of days passed since two historical events.\n",
    "\n",
    "```python\n",
    "borodino_battle = QDate(1812, 9, 7)\n",
    "slavkov_battle = QDate(1805, 12, 2)\n",
    "```\n",
    "\n",
    "\n",
    "We have two dates of battles of the Napoleonic era.\n",
    "\n",
    "```python\n",
    "j_today = now.toJulianDay()\n",
    "j_borodino = borodino_battle.toJulianDay()\n",
    "j_slavkov = slavkov_battle.toJulianDay()\n",
    "```\n",
    "\n",
    "\n",
    "We compute the Julian days for today and for the Battles of Slavkov and Borodino.\n",
    "\n",
    "```python\n",
    "d1 = j_today - j_slavkov\n",
    "d2 = j_today - j_borodino\n",
    "```\n",
    "\n",
    "\n",
    "We compute the number of days passed since the two battles.\n",
    "\n",
    "```bash\n",
    "$ ./battles.py\n",
    "Days since Slavkov battle: 79135\n",
    "Days since Borodino battle: 76664\n",
    "```\n",
    "\n",
    "\n",
    "When we run this script, 77350 days have passed since the Slavkov battle, and 74878 since the Borodino battle.\n",
    "\n",
    "<br>\n",
    "<hr>\n",
    "\n",
    "In this part of the PyQt6 tutorial, we have worked with date and time.\n"
   ]
  },
  {
   "cell_type": "markdown",
   "metadata": {},
   "source": [
    "## [<< Previous](01.Introduction.ipynb) &nbsp;&nbsp;&nbsp;[Next >>](03.FirstPrograms.ipynb)"
   ]
  }
 ],
 "metadata": {
  "kernelspec": {
   "display_name": ".venv",
   "language": "python",
   "name": "python3"
  },
  "language_info": {
   "codemirror_mode": {
    "name": "ipython",
    "version": 3
   },
   "file_extension": ".py",
   "mimetype": "text/x-python",
   "name": "python",
   "nbconvert_exporter": "python",
   "pygments_lexer": "ipython3",
   "version": "3.10.15"
  }
 },
 "nbformat": 4,
 "nbformat_minor": 2
}
