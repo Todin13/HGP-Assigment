{
 "cells": [
  {
   "cell_type": "markdown",
   "metadata": {},
   "source": [
    "<div style=\"text-align: right\"><small>Adapted from ZetCode PyQt6 tutorial by Jan Bodnar, zetcode.com</small></div>"
   ]
  },
  {
   "cell_type": "markdown",
   "metadata": {},
   "source": [
    "# 5. Layout management in PyQt6\n",
    "\n",
    "Layout management is the way how we place the widgets on the application window. We can place our widgets using <em>absolute positioning</em> or with <em>layout classes</em>. Managing the layout with layout managers is the preferred way of organizing our widgets.\n"
   ]
  },
  {
   "cell_type": "code",
   "execution_count": 1,
   "metadata": {},
   "outputs": [
    {
     "data": {
      "text/html": [
       "<style>p{font-family: \"Avenir\";font-size: 1.15em;}</style>\n"
      ],
      "text/plain": [
       "<IPython.core.display.HTML object>"
      ]
     },
     "metadata": {},
     "output_type": "display_data"
    }
   ],
   "source": [
    "%%html\n",
    "<style>p{font-family: \"Avenir\";font-size: 1.15em;}</style>"
   ]
  },
  {
   "cell_type": "markdown",
   "metadata": {
    "slideshow": {
     "slide_type": "slide"
    }
   },
   "source": [
    "\n",
    "## Absolute positioning <small><em>Not recommended!</em></small>\n",
    "\n",
    "The programmer specifies the exact position and the size of each widget in pixels. When you use absolute positioning, we have to understand the following <u>limitations</u>:\n",
    "\n",
    "- The size and the position of a widget do not change if we resize a window\n",
    "- Applications might look different on various platforms\n",
    "- Changing fonts in our application might spoil the layout\n",
    "- If we decide to change our layout, we must completely redo our layout, which is tedious and time consuming\n",
    "\n",
    "The following example positions widgets in absolute coordinates.\n",
    "\n"
   ]
  },
  {
   "cell_type": "code",
   "execution_count": null,
   "metadata": {
    "slideshow": {
     "slide_type": "fragment"
    }
   },
   "outputs": [],
   "source": [
    "#!/usr/bin/python\n",
    "\n",
    "\"\"\"\n",
    "ZetCode PyQt6 tutorial\n",
    "\n",
    "This example shows three labels on a window\n",
    "using absolute positioning.\n",
    "\n",
    "\"\"\"\n",
    "\n",
    "import sys\n",
    "from PyQt6.QtWidgets import QWidget, QLabel, QApplication\n",
    "\n",
    "\n",
    "class Example(QWidget):\n",
    "\n",
    "    def __init__(self):\n",
    "        super().__init__()\n",
    "\n",
    "        self.initUI()\n",
    "\n",
    "\n",
    "    def initUI(self):\n",
    "\n",
    "        lbl1 = QLabel('ZetCode', self)\n",
    "        lbl1.move(15, 10)\n",
    "\n",
    "        lbl2 = QLabel('tutorials', self)\n",
    "        lbl2.move(35, 40)\n",
    "\n",
    "        lbl3 = QLabel('for programmers', self)\n",
    "        lbl3.move(55, 70)\n",
    "\n",
    "        self.setGeometry(300, 300, 350, 250)\n",
    "        self.setWindowTitle('Absolute')\n",
    "        self.show()\n",
    "\n",
    "\n",
    "def main():\n",
    "\n",
    "    app = QApplication(sys.argv)\n",
    "    ex = Example()\n",
    "    sys.exit(app.exec())\n",
    "\n",
    "\n",
    "if __name__ == '__main__':\n",
    "    main()"
   ]
  },
  {
   "cell_type": "markdown",
   "metadata": {
    "slideshow": {
     "slide_type": "slide"
    }
   },
   "source": [
    "We use the `move()` method to position our widgets. In our case these are labels. We position them by providing the x and y coordinates. The beginning of the coordinate system is at the left top corner. The x values grow from left to right. The y values grow from top to bottom.\n",
    "\n",
    "```python\n",
    "lbl1 = QLabel('Zetcode', self)\n",
    "lbl1.move(15, 10)\n",
    "```\n",
    "\n",
    "\n",
    "The label widget is positioned at `x=15` and `y=10`.\n",
    "\n",
    "![Figure: Absolute positioning](./img/absolute.png)\n",
    "<br>\n",
    "<hr>\n",
    "\n",
    "## Layouts   <small><em> Recommended!</em></small>\n",
    "\n",
    "Instead of using absolute values, we can make our UI more responsive by distributing our components into layouts. In this way if the window is resized, components will redistribute themselves among the space available. \n",
    "\n",
    "<br>\n",
    "\n",
    "## Box layout\n",
    "\n",
    "`QHBoxLayout` and `QVBoxLayout` are basic layout classes that line up widgets horizontally and vertically.\n",
    "\n",
    "Imagine that we wanted to place two buttons in the right bottom corner. To create such a layout, we use one horizontal and one vertical box. To create the necessary space, we add a <em>stretch factor</em>.\n",
    "\n"
   ]
  },
  {
   "cell_type": "code",
   "execution_count": null,
   "metadata": {
    "slideshow": {
     "slide_type": "fragment"
    }
   },
   "outputs": [],
   "source": [
    "#!/usr/bin/python\n",
    "\n",
    "\"\"\"\n",
    "ZetCode PyQt6 tutorial\n",
    "\n",
    "In this example, we position two pushbuttons in the bottom-right corner\n",
    "of the window.\n",
    "\n",
    "\"\"\"\n",
    "\n",
    "import sys\n",
    "from PyQt6.QtWidgets import (QWidget, QPushButton,\n",
    "        QHBoxLayout, QVBoxLayout, QApplication)\n",
    "\n",
    "\n",
    "class Example(QWidget):\n",
    "\n",
    "    def __init__(self):\n",
    "        super().__init__()\n",
    "\n",
    "        self.initUI()\n",
    "\n",
    "\n",
    "    def initUI(self):\n",
    "\n",
    "        okButton = QPushButton(\"OK\")\n",
    "        cancelButton = QPushButton(\"Cancel\")\n",
    "\n",
    "        hbox = QHBoxLayout()\n",
    "        hbox.addStretch(1)\n",
    "        hbox.addWidget(okButton)\n",
    "        hbox.addWidget(cancelButton)\n",
    "\n",
    "        vbox = QVBoxLayout()\n",
    "        vbox.addStretch(1)\n",
    "        vbox.addLayout(hbox)\n",
    "\n",
    "        self.setLayout(vbox)\n",
    "\n",
    "        self.setGeometry(300, 300, 350, 250)\n",
    "        self.setWindowTitle('Buttons')\n",
    "        self.show()\n",
    "\n",
    "\n",
    "def main():\n",
    "\n",
    "    app = QApplication(sys.argv)\n",
    "    ex = Example()\n",
    "    sys.exit(app.exec())\n",
    "\n",
    "\n",
    "if __name__ == '__main__':\n",
    "    main()"
   ]
  },
  {
   "cell_type": "markdown",
   "metadata": {
    "slideshow": {
     "slide_type": "slide"
    }
   },
   "source": [
    "The example places two buttons in the bottom-right corner of the window. They stay there when we resize the application window. We use both a `HBoxLayout` and a `QVBoxLayout`.\n",
    "\n",
    "```python\n",
    "okButton = QPushButton(\"OK\")\n",
    "cancelButton = QPushButton(\"Cancel\")\n",
    "```\n",
    "\n",
    "\n",
    "Here we create two push buttons.\n",
    "\n",
    "```python\n",
    "hbox = QHBoxLayout()\n",
    "hbox.addStretch(1)\n",
    "hbox.addWidget(okButton)\n",
    "hbox.addWidget(cancelButton)\n",
    "```\n",
    "\n",
    "\n",
    "We create a horizontal box layout and add a stretch factor and both buttons. The stretch adds a stretchable space before the two buttons. This will push them to the right of the window.\n",
    "\n",
    "```python\n",
    "vbox = QVBoxLayout()\n",
    "vbox.addStretch(1)\n",
    "vbox.addLayout(hbox)\n",
    "```\n",
    "\n",
    "\n",
    "The horizontal layout is placed into the vertical layout. The stretch factor in the vertical box will push the horizontal box with the buttons to the bottom of the window.\n",
    "\n",
    "```python\n",
    "self.setLayout(vbox)\n",
    "```\n",
    "\n",
    "\n",
    "Finally, we set the main layout of the window.\n",
    "\n",
    "![Figure: Buttons](./img/buttons.png)\n",
    "\n",
    "\n",
    "## QGridLayout\n",
    "\n",
    "`QGridLayout` is the most universal layout class. It divides the space into rows and columns.\n",
    "\n"
   ]
  },
  {
   "cell_type": "code",
   "execution_count": null,
   "metadata": {
    "slideshow": {
     "slide_type": "fragment"
    }
   },
   "outputs": [],
   "source": [
    "#!/usr/bin/python\n",
    "\n",
    "\"\"\"\n",
    "ZetCode PyQt6 tutorial\n",
    "\n",
    "In this example, we create a skeleton\n",
    "of a calculator using QGridLayout.\n",
    "\n",
    "\"\"\"\n",
    "\n",
    "import sys\n",
    "from PyQt6.QtWidgets import (QWidget, QGridLayout,\n",
    "        QPushButton, QApplication)\n",
    "\n",
    "\n",
    "class Example(QWidget):\n",
    "\n",
    "    def __init__(self):\n",
    "        super().__init__()\n",
    "\n",
    "        self.initUI()\n",
    "\n",
    "\n",
    "    def initUI(self):\n",
    "\n",
    "        grid = QGridLayout()\n",
    "        self.setLayout(grid)\n",
    "\n",
    "        names = ['Cls', 'Bck', '', 'Close',\n",
    "                 '7', '8', '9', '/',\n",
    "                 '4', '5', '6', '*',\n",
    "                 '1', '2', '3', '-',\n",
    "                 '0', '.', '=', '+']\n",
    "\n",
    "        positions = [(i, j) for i in range(5) for j in range(4)]\n",
    "\n",
    "        for position, name in zip(positions, names):\n",
    "\n",
    "            if name == '':\n",
    "                continue\n",
    "\n",
    "            button = QPushButton(name)\n",
    "            grid.addWidget(button, *position)\n",
    "\n",
    "        self.move(300, 150)\n",
    "        self.setWindowTitle('Calculator')\n",
    "        self.show()\n",
    "\n",
    "\n",
    "def main():\n",
    "\n",
    "    app = QApplication(sys.argv)\n",
    "    ex = Example()\n",
    "    sys.exit(app.exec())\n",
    "\n",
    "\n",
    "if __name__ == '__main__':\n",
    "    main()"
   ]
  },
  {
   "cell_type": "markdown",
   "metadata": {
    "slideshow": {
     "slide_type": "slide"
    }
   },
   "source": [
    "In our example, we create a grid of buttons.\n",
    "\n",
    "```python\n",
    "grid = QGridLayout()\n",
    "self.setLayout(grid)\n",
    "```\n",
    "\n",
    "\n",
    "The instance of a `QGridLayout` is created and set to be the layout for the application window.\n",
    "\n",
    "```python\n",
    "names = ['Cls', 'Bck', '', 'Close',\n",
    "            '7', '8', '9', '/',\n",
    "        '4', '5', '6', '*',\n",
    "            '1', '2', '3', '-',\n",
    "        '0', '.', '=', '+']\n",
    "```\n",
    "\n",
    "\n",
    "These are the labels used later for buttons.\n",
    "\n",
    "```python\n",
    "positions = [(i,j) for i in range(5) for j in range(4)]\n",
    "```\n",
    "\n",
    "\n",
    "We create a list of positions in the grid.\n",
    "\n",
    "```python\n",
    "for position, name in zip(positions, names):\n",
    "    \n",
    "    if name == '':\n",
    "        continue\n",
    "    button = QPushButton(name)\n",
    "    grid.addWidget(button, *position)\n",
    "```\n",
    "\n",
    "\n",
    "Buttons are created and added to the layout with the `addWidget()` method.\n",
    "\n",
    "![Figure: Calculator skeleton](./img/calculator.png)\n",
    "\n",
    "\n",
    "## Review example\n",
    "\n",
    "Widgets can span multiple columns or rows in a grid. In the next example we illustrate this.\n",
    "\n"
   ]
  },
  {
   "cell_type": "code",
   "execution_count": null,
   "metadata": {
    "slideshow": {
     "slide_type": "fragment"
    }
   },
   "outputs": [],
   "source": [
    "#!/usr/bin/python\n",
    "\n",
    "\"\"\"\n",
    "ZetCode PyQt6 tutorial\n",
    "\n",
    "In this example, we create a bit more complicated window layout using\n",
    "the QGridLayout manager.\n",
    "\n",
    "\"\"\"\n",
    "\n",
    "import sys\n",
    "from PyQt6.QtWidgets import (QWidget, QLabel, QLineEdit,\n",
    "        QTextEdit, QGridLayout, QApplication)\n",
    "\n",
    "\n",
    "class Example(QWidget):\n",
    "\n",
    "    def __init__(self):\n",
    "        super().__init__()\n",
    "\n",
    "        self.initUI()\n",
    "\n",
    "\n",
    "    def initUI(self):\n",
    "\n",
    "        title = QLabel('Title')\n",
    "        author = QLabel('Author')\n",
    "        review = QLabel('Review')\n",
    "\n",
    "        titleEdit = QLineEdit()\n",
    "        authorEdit = QLineEdit()\n",
    "        reviewEdit = QTextEdit()\n",
    "\n",
    "        grid = QGridLayout()\n",
    "        grid.setSpacing(10)\n",
    "\n",
    "        grid.addWidget(title, 1, 0)\n",
    "        grid.addWidget(titleEdit, 1, 1)\n",
    "\n",
    "        grid.addWidget(author, 2, 0)\n",
    "        grid.addWidget(authorEdit, 2, 1)\n",
    "\n",
    "        grid.addWidget(review, 3, 0)\n",
    "        grid.addWidget(reviewEdit, 3, 1, 5, 1)\n",
    "\n",
    "        self.setLayout(grid)\n",
    "\n",
    "        self.setGeometry(300, 300, 350, 300)\n",
    "        self.setWindowTitle('Review')\n",
    "        self.show()\n",
    "\n",
    "\n",
    "def main():\n",
    "\n",
    "    app = QApplication(sys.argv)\n",
    "    ex = Example()\n",
    "    sys.exit(app.exec())\n",
    "\n",
    "\n",
    "if __name__ == '__main__':\n",
    "    main()"
   ]
  },
  {
   "cell_type": "markdown",
   "metadata": {
    "slideshow": {
     "slide_type": "slide"
    }
   },
   "source": [
    "We create a window in which we have three labels, two line edits and one text edit widget. The layout is done with the `QGridLayout`.\n",
    "\n",
    "```python\n",
    "grid = QGridLayout()\n",
    "grid.setSpacing(10)\n",
    "```\n",
    "\n",
    "\n",
    "We create a grid layout and set spacing between widgets.\n",
    "\n",
    "```python\n",
    "grid.addWidget(reviewEdit, 3, 1, 5, 1)\n",
    "```\n",
    "\n",
    "\n",
    "If we add a widget to a grid, we can provide row span and column span of the widget. In our case, we make the `reviewEdit` widget span 5 rows.\n",
    "\n",
    "![Figure: Review example](./img/review.png)\n",
    "\n",
    "<hr>\n",
    "\n",
    "This part of the PyQt6 tutorial was dedicated to layout management.\n",
    "\n"
   ]
  },
  {
   "cell_type": "markdown",
   "metadata": {},
   "source": [
    "## [<< Previous](04.MenusAndToolbars.ipynb) &nbsp;&nbsp;&nbsp;[Next >>](06.EventsAndSignals.ipynb)"
   ]
  }
 ],
 "metadata": {
  "kernelspec": {
   "display_name": "Python 3 (ipykernel)",
   "language": "python",
   "name": "python3"
  },
  "language_info": {
   "codemirror_mode": {
    "name": "ipython",
    "version": 3
   },
   "file_extension": ".py",
   "mimetype": "text/x-python",
   "name": "python",
   "nbconvert_exporter": "python",
   "pygments_lexer": "ipython3",
   "version": "3.10.6"
  }
 },
 "nbformat": 4,
 "nbformat_minor": 2
}
